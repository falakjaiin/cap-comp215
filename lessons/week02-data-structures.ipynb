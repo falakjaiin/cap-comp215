{
  "nbformat": 4,
  "nbformat_minor": 0,
  "metadata": {
    "colab": {
      "name": "week2.ipynb",
      "provenance": [],
      "include_colab_link": true
    },
    "kernelspec": {
      "name": "python3",
      "display_name": "Python 3"
    },
    "language_info": {
      "name": "python"
    }
  },
  "cells": [
    {
      "cell_type": "markdown",
      "metadata": {
        "id": "view-in-github",
        "colab_type": "text"
      },
      "source": [
        "<a href=\"https://colab.research.google.com/github/falakjaiin/cap-comp215/blob/2024.01/lessons/week02-data-structures.ipynb\" target=\"_parent\"><img src=\"https://colab.research.google.com/assets/colab-badge.svg\" alt=\"Open In Colab\"/></a>"
      ]
    },
    {
      "cell_type": "markdown",
      "source": [
        "# Sequence and Map data structures - Strings, Tuples, Lists, Dictionaries\n",
        "Our week 2 lesson workbook, available on Github from the powderflask/cap-comp215 repository.\n",
        "\n",
        "As usual, the first code block just imports the modules we will use."
      ],
      "metadata": {
        "id": "WBMC0GrjNRTM"
      }
    },
    {
      "cell_type": "code",
      "execution_count": null,
      "metadata": {
        "id": "C1a6aDXAM0WM"
      },
      "outputs": [],
      "source": [
        "import datetime\n",
        "import matplotlib.pyplot as plt\n",
        "import  matplotlib.dates as mdates\n",
        "from pprint import pprint"
      ]
    },
    {
      "cell_type": "markdown",
      "source": [
        "## f-strings\n",
        "A `string` is a sequence of characters / symbols.\n",
        "This familiar data structure is quite powerful, and format-strings (f-strings) take it to the next level...."
      ],
      "metadata": {
        "collapsed": false,
        "pycharm": {
          "name": "#%% md\n"
        },
        "id": "deX-cazGfO9H"
      }
    },
    {
      "cell_type": "code",
      "execution_count": 68,
      "outputs": [
        {
          "output_type": "execute_result",
          "data": {
            "text/plain": [
              "'{today} is not special, but {the_answer} and {PI} are!'"
            ],
            "application/vnd.google.colaboratory.intrinsic+json": {
              "type": "string"
            }
          },
          "metadata": {},
          "execution_count": 68
        }
      ],
      "source": [
        "today = datetime.date.today()\n",
        "the_answer = 42\n",
        "PI = 3.1415926535\n",
        "\n",
        "'{today} is not special, but {the_answer} and {PI} are!'"
      ],
      "metadata": {
        "pycharm": {
          "name": "#%%\n"
        },
        "id": "bGmsxC5sfO9M",
        "outputId": "932653ce-be15-47b0-f796-1996ff21200c",
        "colab": {
          "base_uri": "https://localhost:8080/"
        }
      }
    },
    {
      "cell_type": "markdown",
      "source": [
        "## List Comprehension\n",
        "Provides a compact syntax for two very common sequence-processing algorithms:  Map  and Filter\n",
        "\n",
        "Basic syntax:"
      ],
      "metadata": {
        "id": "k70NJ-JTNwYN"
      }
    },
    {
      "cell_type": "code",
      "source": [],
      "metadata": {
        "id": "HZSz8IftqJ72"
      },
      "execution_count": null,
      "outputs": []
    },
    {
      "cell_type": "markdown",
      "source": [
        "### Map Algorithm\n",
        "Apply the same function to every item in another sequence (i.e., provide a \"mapping\" from the source sequence to the target"
      ],
      "metadata": {
        "collapsed": false,
        "pycharm": {
          "name": "#%% md\n"
        },
        "id": "xTHCHwyefO9S"
      }
    },
    {
      "cell_type": "code",
      "execution_count": null,
      "outputs": [],
      "source": [
        "# Problem:  compute the first 10 natural squares"
      ],
      "metadata": {
        "pycharm": {
          "name": "#%%\n"
        },
        "id": "Usu0jBT-fO9T"
      }
    },
    {
      "cell_type": "markdown",
      "source": [
        "### Filter\n",
        "Select a sub-set of the elements from another sequence based on some criteria."
      ],
      "metadata": {
        "collapsed": false,
        "pycharm": {
          "name": "#%% md\n"
        },
        "id": "xm-h_-TBfO9U"
      }
    },
    {
      "cell_type": "code",
      "execution_count": 38,
      "outputs": [
        {
          "output_type": "execute_result",
          "data": {
            "text/plain": [
              "'oeiuooiaeoeeuaiiieieoeiuoeoiiiuuaoeeooeaaaiuaeiaiieiauioueeiaiouaoaoiiiuaiuieeaooooeua'"
            ],
            "application/vnd.google.colaboratory.intrinsic+json": {
              "type": "string"
            }
          },
          "metadata": {},
          "execution_count": 38
        }
      ],
      "source": [
        "VOWELS = 'aeiou'\n",
        "text = '''\n",
        "Lorem ipsum dolor sit amet, consectetur adipiscing elit, sed do eiusmod tempor incididunt ut labore et dolore magna aliqua. Ut enim ad minim veniam, quis nostrud exercitation ullamco laboris nisi ut aliquip ex ea commodo consequat.\n",
        "'''\n",
        "# Problem:  create a string with just the vowels from the text, in order.\n",
        "''.join([i for i in text if i in VOWELS])\n"
      ],
      "metadata": {
        "pycharm": {
          "name": "#%%\n"
        },
        "id": "8hmJmeJufO9W",
        "outputId": "b9b511d0-42d6-4a93-df3a-7eab7a08f900",
        "colab": {
          "base_uri": "https://localhost:8080/"
        }
      }
    },
    {
      "cell_type": "markdown",
      "source": [
        "## Data Wrangling with List Comprehension\n",
        "E-learn's Live Quiz module does track quiz scores for each student, but does not store them in the gradebook,\n",
        "and it reports on them in the most useless way.\n",
        "\n",
        "Let's do some \"data wrangling\" to make sense out of this mess!\n",
        "\n",
        "### The Problem: Unstructured Data!\n",
        "Notice it is just a single large string!  The real data set has 36 students, and I need to do this every week!"
      ],
      "metadata": {
        "collapsed": false,
        "pycharm": {
          "name": "#%% md\n"
        },
        "id": "hk3KXjgVfO9Y"
      }
    },
    {
      "cell_type": "code",
      "execution_count": 67,
      "outputs": [
        {
          "output_type": "execute_result",
          "data": {
            "text/plain": [
              "[('Ali Oop', 7),\n",
              " ('Alison Ralison', 8),\n",
              " ('Ambily Piturbed', 8),\n",
              " ('Arshan Risnot Farquared', 5),\n",
              " ('Ayushma Jugernaugh', 5),\n",
              " ('Brayden Labaguette', 7)]"
            ]
          },
          "metadata": {},
          "execution_count": 67
        }
      ],
      "source": [
        "profile = \"\"\"\n",
        "  1.                 Ali Oop scored  7/ 8 = 87%\n",
        "\n",
        "\n",
        "  2.          Alison Ralison scored  8/ 8 = 100%\n",
        "\n",
        "\n",
        "  3.         Ambily Piturbed scored  8/ 8 = 100%\n",
        "\n",
        "\n",
        "  4.  Arshan Risnot Farquared scored  5/ 8 = 62%\n",
        "\n",
        "\n",
        "  5.       Ayushma Jugernaugh scored  5/ 8 = 62%\n",
        "\n",
        "\n",
        "  6.       Brayden Labaguette scored  7/ 8 = 87%\n",
        "\"\"\"\n",
        "\n",
        "profile.split('\\n')\n",
        "data = [s.split() for s in profile.split('\\n') if s != '']\n",
        "grade = [int(score[-4].rstrip('/')) for score in data]\n",
        "name = [' '.join(name[1:-5]) for name in data]\n",
        "list(zip(name,grade))\n",
        "\n"
      ],
      "metadata": {
        "pycharm": {
          "name": "#%%\n"
        },
        "id": "akWcWgLGfO9c",
        "outputId": "7465b3da-c55e-45fe-d325-6407d436d5a4",
        "colab": {
          "base_uri": "https://localhost:8080/"
        }
      }
    },
    {
      "cell_type": "markdown",
      "source": [
        "### Goal\n",
        "Turn this into structured data: a list of 2-tuples, each student's full name and their integer score."
      ],
      "metadata": {
        "collapsed": false,
        "pycharm": {
          "name": "#%% md\n"
        },
        "id": "o-to4H7YfO9e"
      }
    },
    {
      "cell_type": "code",
      "execution_count": null,
      "outputs": [],
      "source": [],
      "metadata": {
        "pycharm": {
          "name": "#%%\n"
        },
        "id": "TlX9hi3RfO9f"
      }
    },
    {
      "cell_type": "markdown",
      "source": [
        "## Records\n",
        "A *record* is a compound data value - a collection of simpler data values (fields) that all describe a single entity.\n",
        "\n",
        " * tuple\n",
        " * dictionary\n",
        " * object\n",
        "\n",
        "Problem: develop the data representation for a `student` in a student record system,\n",
        "where a `student` has a first and last name, student id, and date of birth"
      ],
      "metadata": {
        "collapsed": false,
        "id": "O554hIxFfO9f"
      }
    },
    {
      "cell_type": "code",
      "source": [
        "# Tuple\n",
        "\n",
        "# Dictionary\n",
        "\n",
        "# Object\n",
        "\n",
        "text = \"\"\" My name is Falak Jain ,student id:- 100170583 , and my date of birth is 2004/06/25 \"\"\"\n"
      ],
      "metadata": {
        "id": "Ai9qb3Bolw4h"
      },
      "execution_count": null,
      "outputs": []
    },
    {
      "cell_type": "code",
      "execution_count": null,
      "outputs": [],
      "source": [],
      "metadata": {
        "pycharm": {
          "name": "#%%\n"
        },
        "id": "FykI7pwbfO9g"
      }
    }
  ]
}