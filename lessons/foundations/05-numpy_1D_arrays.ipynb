{
  "cells": [
    {
      "cell_type": "markdown",
      "metadata": {
        "collapsed": true,
        "pycharm": {
          "name": "#%% md\n"
        },
        "id": "4hgfWXyO__zw"
      },
      "source": [
        "# numpy:  1D array (vector) operations\n",
        "[numpy array](https://numpy.org/doc/stable/reference/arrays.html) objects come with very powerful built-in vector operations.\n",
        "These allow you to perform an operation on every element of the vector without any explicit iteration. E.g.,\n",
        " - simple map operations (to map one vector onto another the same size) using python's math operators\n",
        " - vector x scalar and vector x vector operations using math operators\n",
        " - create a boolean vector using comparison operators;\n",
        " - vector indexing and powerful vector filtering operations using python's indexing operator, $[ ]$\n",
        "\n",
        "This makes for very concise and efficient code, but the code is a bit deceptive because unless you are cognizant that a variable refers to a numpy array, there is often no clue that a vector operation is being performed.  Let's look at some examples...\n"
      ]
    },
    {
      "cell_type": "code",
      "execution_count": 2,
      "outputs": [],
      "source": [
        "import numpy as np"
      ],
      "metadata": {
        "pycharm": {
          "name": "#%%\n"
        },
        "ExecuteTime": {
          "end_time": "2024-01-02T07:29:01.781891Z",
          "start_time": "2024-01-02T07:29:01.766428Z"
        },
        "id": "-JhJg55k__zy"
      }
    },
    {
      "cell_type": "markdown",
      "source": [
        "## Create a 1D array\n",
        " * simple: define it using a list or tuple or any other sequence type (but not a generator!);\n",
        " * general: define it by supplying its length;\n",
        " * random: filled with random values;\n",
        "Notice that in some way we must always pre-define the vector's length."
      ],
      "metadata": {
        "collapsed": false,
        "pycharm": {
          "name": "#%% md\n"
        },
        "id": "2yoa0Rda__zz"
      }
    },
    {
      "cell_type": "code",
      "execution_count": 3,
      "outputs": [
        {
          "output_type": "execute_result",
          "data": {
            "text/plain": [
              "(array([9, 8, 7, 6, 5, 4, 3, 2, 1]),\n",
              " array([1, 1, 1, 1, 1, 1, 1, 1, 1], dtype=uint8),\n",
              " array([1, 1, 1, 1, 0, 0, 1, 0, 0], dtype=uint8))"
            ]
          },
          "metadata": {},
          "execution_count": 3
        }
      ],
      "source": [
        "vector = np.array([9, 8, 7, 6, 5, 4, 3, 2, 1])\n",
        "\n",
        "ones = np.ones(9, dtype='uint8')\n",
        "rand = np.random.randint(2, size=9, dtype='uint8')\n",
        "vector, ones, rand"
      ],
      "metadata": {
        "pycharm": {
          "name": "#%%\n"
        },
        "ExecuteTime": {
          "end_time": "2024-01-02T07:29:01.782201Z",
          "start_time": "2024-01-02T07:29:01.773101Z"
        },
        "id": "uXV0123-__zz",
        "outputId": "c700282c-d368-49b1-f091-0d0de6b4ada5",
        "colab": {
          "base_uri": "https://localhost:8080/"
        }
      }
    },
    {
      "cell_type": "markdown",
      "source": [
        "## Vector x Scalar operations\n",
        "numpy array class defines all math and comparison operators.\n",
        "Confusion arises here b/c the code itself does not indicate there is a vector operation being done - you have to know!"
      ],
      "metadata": {
        "collapsed": false,
        "pycharm": {
          "name": "#%% md\n"
        },
        "id": "Tf8Rfltb__z0"
      }
    },
    {
      "cell_type": "code",
      "execution_count": 4,
      "outputs": [
        {
          "output_type": "execute_result",
          "data": {
            "text/plain": [
              "(array([18, 16, 14, 12, 10,  8,  6,  4,  2]),\n",
              " array([2, 2, 2, 2, 2, 2, 2, 2, 2], dtype=uint8),\n",
              " array([ True,  True,  True,  True, False, False,  True, False, False]))"
            ]
          },
          "metadata": {},
          "execution_count": 4
        }
      ],
      "source": [
        "double = vector * 2\n",
        "twos = ones + 1\n",
        "alive = rand == 1\n",
        "double, twos, alive"
      ],
      "metadata": {
        "pycharm": {
          "name": "#%%\n"
        },
        "ExecuteTime": {
          "end_time": "2024-01-02T07:29:01.782407Z",
          "start_time": "2024-01-02T07:29:01.775947Z"
        },
        "id": "tZJ3lrVF__z0",
        "outputId": "0a94b679-2787-484b-fea6-08063b27e8e5",
        "colab": {
          "base_uri": "https://localhost:8080/"
        }
      }
    },
    {
      "cell_type": "markdown",
      "source": [
        "## Vector x Vector operations\n",
        "All operators also work when both arguments are arrays, in this case operations are done pair-wise on matching elements.\n",
        "The 2 arrays must have the same dimensions!"
      ],
      "metadata": {
        "collapsed": false,
        "pycharm": {
          "name": "#%% md\n"
        },
        "id": "I6-6-CVi__z0"
      }
    },
    {
      "cell_type": "code",
      "execution_count": 5,
      "outputs": [
        {
          "output_type": "execute_result",
          "data": {
            "text/plain": [
              "(array([81, 64, 49, 36, 25, 16,  9,  4,  1]),\n",
              " array([3, 3, 3, 3, 3, 3, 3, 3, 3], dtype=uint8),\n",
              " array([9, 8, 7, 6, 0, 0, 3, 0, 0]))"
            ]
          },
          "metadata": {},
          "execution_count": 5
        }
      ],
      "source": [
        "squares = vector * vector\n",
        "threes = ones + twos\n",
        "filtered = rand * vector\n",
        "squares, threes, filtered"
      ],
      "metadata": {
        "pycharm": {
          "name": "#%%\n"
        },
        "ExecuteTime": {
          "end_time": "2024-01-02T07:29:01.791085Z",
          "start_time": "2024-01-02T07:29:01.785179Z"
        },
        "id": "kPwMsyhU__z0",
        "outputId": "15a5afed-54a2-4702-e499-eee639da443e",
        "colab": {
          "base_uri": "https://localhost:8080/"
        }
      }
    },
    {
      "cell_type": "markdown",
      "source": [
        "## Logical operators\n",
        "numpy does not re-define python's built-in logical operators `and`, `or`, `not`\n",
        "But it does define the \"bitwise\" operators, bitwise and `&`, bitwise or `|` and bitwise not '~'.\n",
        "With care, these can be used to implement whole-matrix logical operations...\n",
        "**Tips**: both operands should by `bool` or `0`/`1` valued arrays (or you better really understand bitwise operators!).\n",
        "     Watch your precedence -- bitwise operators are very low precedence!"
      ],
      "metadata": {
        "collapsed": false,
        "pycharm": {
          "name": "#%% md\n"
        },
        "id": "Ph3MF1we__z1"
      }
    },
    {
      "cell_type": "code",
      "execution_count": 6,
      "outputs": [
        {
          "output_type": "stream",
          "name": "stdout",
          "text": [
            "Error: The truth value of an array with more than one element is ambiguous. Use a.any() or a.all()\n"
          ]
        },
        {
          "output_type": "execute_result",
          "data": {
            "text/plain": [
              "(array([ True,  True,  True,  True, False, False,  True, False, False]),\n",
              " array([ True, False,  True, False, False, False,  True, False, False]),\n",
              " array([ True,  True,  True,  True, False, False, False, False, False]),\n",
              " array([False, False, False, False,  True,  True, False,  True,  True]))"
            ]
          },
          "metadata": {},
          "execution_count": 6
        }
      ],
      "source": [
        "try:\n",
        "    ones and twos  # can't use built-in logical operators on arrays!\n",
        "except ValueError as e:\n",
        "    print('Error:', e)\n",
        "\n",
        "# Use \"bit-wise\" operators with care - only on `bool` or binary (0/1) valued arrays!\n",
        "fitlered2 = alive & vector!=0\n",
        "big_and_alive = (vector > 5) & alive\n",
        "not_alive = ~alive\n",
        "alive, fitlered2, big_and_alive, not_alive"
      ],
      "metadata": {
        "pycharm": {
          "name": "#%%\n"
        },
        "ExecuteTime": {
          "end_time": "2024-01-02T07:29:01.800338Z",
          "start_time": "2024-01-02T07:29:01.789462Z"
        },
        "id": "u1MQp2QF__z1",
        "outputId": "71146fb4-3123-4e8d-99f2-515ea5ec065b",
        "colab": {
          "base_uri": "https://localhost:8080/"
        }
      }
    },
    {
      "cell_type": "markdown",
      "source": [
        "## Vector indexing\n",
        "Perhaps one of the most powerful numpy array operations is the ability to use the values of one array as indexes to lookup values in another array.\n",
        "For this operation the arrays can be different sizes and shapes, but you need to be clear about which array is the lookup table and which is the indexes!"
      ],
      "metadata": {
        "collapsed": false,
        "pycharm": {
          "name": "#%% md\n"
        },
        "id": "xEQaxcSh__z1"
      }
    },
    {
      "cell_type": "code",
      "execution_count": 7,
      "outputs": [
        {
          "output_type": "execute_result",
          "data": {
            "text/plain": [
              "(array([2, 6, 5, 9, 8, 9, 8, 6, 2]),\n",
              " array(['Feb', 'Jun', 'May', 'Sep', 'Aug', 'Sep', 'Aug', 'Jun', 'Feb'],\n",
              "       dtype='<U3'))"
            ]
          },
          "metadata": {},
          "execution_count": 7
        }
      ],
      "source": [
        "month_names = np.array(['Jan', 'Feb', 'Mar', 'Apr', 'May', 'Jun', 'Jul', 'Aug', 'Sep', 'Oct', 'Nov', 'Dec'])\n",
        "month_nums = np.random.randint(low=1, high=12, size=9)\n",
        "month_nums, month_names[month_nums-1]"
      ],
      "metadata": {
        "pycharm": {
          "name": "#%%\n"
        },
        "ExecuteTime": {
          "end_time": "2024-01-02T07:29:01.827891Z",
          "start_time": "2024-01-02T07:29:01.793951Z"
        },
        "id": "aCo52csQ__z1",
        "outputId": "5c6b6386-3b5a-468e-bc3e-7306cc008101",
        "colab": {
          "base_uri": "https://localhost:8080/"
        }
      }
    },
    {
      "cell_type": "markdown",
      "source": [
        "### Filter with Boolean indexes\n",
        "By using an array of booleans, you can filter out a set of elements from another array with the same shape."
      ],
      "metadata": {
        "collapsed": false,
        "pycharm": {
          "name": "#%% md\n"
        },
        "id": "pjPzCBVV__z1"
      }
    },
    {
      "cell_type": "code",
      "execution_count": 10,
      "outputs": [
        {
          "output_type": "execute_result",
          "data": {
            "text/plain": [
              "(array([81, 64, 49, 36, 25, 16,  9,  4,  1]),\n",
              " array([64, 36, 16,  4]),\n",
              " [64, 36, 16, 4],\n",
              " array([81, 64, 49, 36,  9]))"
            ]
          },
          "metadata": {},
          "execution_count": 10
        }
      ],
      "source": [
        "even_squares = squares[squares%2==0]\n",
        "even_squares2 = [s for s in squares if s%2==0]\n",
        "squares, even_squares, even_squares2, squares[alive]"
      ],
      "metadata": {
        "pycharm": {
          "name": "#%%\n"
        },
        "ExecuteTime": {
          "end_time": "2024-01-02T07:29:01.828109Z",
          "start_time": "2024-01-02T07:29:01.797712Z"
        },
        "id": "u8QLPY3j__z2",
        "outputId": "ce29be75-41be-4f23-fdc8-eaa3821c0028",
        "colab": {
          "base_uri": "https://localhost:8080/"
        }
      }
    },
    {
      "cell_type": "markdown",
      "source": [
        "Notice you get back a 1D array of filtered elements.  These can act as references back to elements in the original array.\n",
        "This allows us to use a scalar assignment to update elements of the original vector that meet some criteria ..."
      ],
      "metadata": {
        "collapsed": false,
        "pycharm": {
          "name": "#%% md\n"
        },
        "id": "awiTtqfK__z2"
      }
    },
    {
      "cell_type": "code",
      "execution_count": 9,
      "outputs": [
        {
          "output_type": "execute_result",
          "data": {
            "text/plain": [
              "(array([9, 8, 7, 6, 5, 4, 3, 2, 1]),\n",
              " array([ True,  True,  True,  True, False, False,  True, False, False]),\n",
              " array([9, 8, 7, 6, 0, 0, 3, 0, 0]))"
            ]
          },
          "metadata": {},
          "execution_count": 9
        }
      ],
      "source": [
        "vec_copy = vector.copy()\n",
        "vec_copy[~alive] = 0\n",
        "vector, alive, vec_copy"
      ],
      "metadata": {
        "pycharm": {
          "name": "#%%\n"
        },
        "ExecuteTime": {
          "end_time": "2024-01-02T07:31:04.062369Z",
          "start_time": "2024-01-02T07:31:04.048765Z"
        },
        "id": "pvLNGt7p__z2",
        "outputId": "8310518b-c834-4148-9f1e-7c25b2106e53",
        "colab": {
          "base_uri": "https://localhost:8080/"
        }
      }
    },
    {
      "cell_type": "code",
      "execution_count": 9,
      "outputs": [],
      "source": [],
      "metadata": {
        "pycharm": {
          "name": "#%%\n"
        },
        "ExecuteTime": {
          "end_time": "2024-01-02T07:29:01.828603Z",
          "start_time": "2024-01-02T07:29:01.804396Z"
        },
        "id": "ZalSvi-0__z2"
      }
    }
  ],
  "metadata": {
    "kernelspec": {
      "display_name": "Python 3",
      "language": "python",
      "name": "python3"
    },
    "language_info": {
      "codemirror_mode": {
        "name": "ipython",
        "version": 2
      },
      "file_extension": ".py",
      "mimetype": "text/x-python",
      "name": "python",
      "nbconvert_exporter": "python",
      "pygments_lexer": "ipython2",
      "version": "2.7.6"
    },
    "colab": {
      "provenance": []
    }
  },
  "nbformat": 4,
  "nbformat_minor": 0
}