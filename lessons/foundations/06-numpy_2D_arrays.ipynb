{
  "cells": [
    {
      "cell_type": "markdown",
      "metadata": {
        "collapsed": true,
        "pycharm": {
          "name": "#%% md\n"
        },
        "id": "LgCuo38zJF9P"
      },
      "source": [
        "# numpy:  2D array (matrix) operations\n",
        "2D arrays come with very powerful built-in matrix operations.\n",
        "These allow you to perform an operation on every element of the matrix without any explicit iteration. E.g.,\n",
        " - simple map operations using math operators\n",
        " - matrix x scalar and matrix x matrix operations using math operators\n",
        " - create a boolean matrix using comparison operators\n",
        "\n",
        "This makes for very concise and efficient code, but the code is a bit deceptive because unless you are cognizant that a variable refers to a numpy array, there is often no clue that a matrix operation is being performed.  Let's look at some examples...\n"
      ]
    },
    {
      "cell_type": "code",
      "execution_count": 1,
      "outputs": [],
      "source": [
        "import numpy as np"
      ],
      "metadata": {
        "pycharm": {
          "name": "#%%\n"
        },
        "id": "E4KFJ_LbJF9V"
      }
    },
    {
      "cell_type": "markdown",
      "source": [
        "## Create a 2D array\n",
        " * simple: define it using a list of lists;\n",
        " * general: define it by supplying an (rows, cols) size;\n",
        " * random: filled with random values;\n",
        "Notice that in some way we must always define the number of rows and columns (dimensions)"
      ],
      "metadata": {
        "collapsed": false,
        "pycharm": {
          "name": "#%% md\n"
        },
        "id": "kS9nJxJjJF9X"
      }
    },
    {
      "cell_type": "code",
      "execution_count": 2,
      "outputs": [
        {
          "output_type": "execute_result",
          "data": {
            "text/plain": [
              "(array([[1, 2, 3],\n",
              "        [4, 5, 6],\n",
              "        [7, 8, 9]]),\n",
              " array([[1, 1, 1],\n",
              "        [1, 1, 1],\n",
              "        [1, 1, 1]], dtype=uint8),\n",
              " array([[0, 1, 0],\n",
              "        [0, 0, 0],\n",
              "        [1, 1, 1]], dtype=uint8))"
            ]
          },
          "metadata": {},
          "execution_count": 2
        }
      ],
      "source": [
        "matrix = np.array(\n",
        "    [\n",
        "        [1, 2, 3],\n",
        "        [4, 5, 6],\n",
        "        [7, 8, 9]\n",
        "    ]\n",
        ")\n",
        "ones = np.ones((3, 3), dtype='uint8')\n",
        "rand = np.random.randint(2, size=(3, 3), dtype='uint8')\n",
        "matrix, ones, rand"
      ],
      "metadata": {
        "pycharm": {
          "name": "#%%\n"
        },
        "id": "J4_CnsVaJF9Y",
        "outputId": "e87f74ba-5e04-4478-ac7f-f8a937acae67",
        "colab": {
          "base_uri": "https://localhost:8080/"
        }
      }
    },
    {
      "cell_type": "markdown",
      "source": [
        "## Matrix x Scalar operations\n",
        "numpy array class defines all math and comparison operators.\n",
        "Confusion arises here b/c the code itself does not indicate there is a matrix operation being done - you have to know!"
      ],
      "metadata": {
        "collapsed": false,
        "pycharm": {
          "name": "#%% md\n"
        },
        "id": "IOOP9XBnJF9Z"
      }
    },
    {
      "cell_type": "code",
      "execution_count": 3,
      "outputs": [
        {
          "output_type": "execute_result",
          "data": {
            "text/plain": [
              "(array([[ 2,  4,  6],\n",
              "        [ 8, 10, 12],\n",
              "        [14, 16, 18]]),\n",
              " array([[2, 2, 2],\n",
              "        [2, 2, 2],\n",
              "        [2, 2, 2]], dtype=uint8),\n",
              " array([[False,  True, False],\n",
              "        [False, False, False],\n",
              "        [ True,  True,  True]]))"
            ]
          },
          "metadata": {},
          "execution_count": 3
        }
      ],
      "source": [
        "double = matrix * 2\n",
        "twos = ones + 1\n",
        "alive = rand == 1\n",
        "double, twos, alive"
      ],
      "metadata": {
        "pycharm": {
          "name": "#%%\n"
        },
        "id": "eqC9hQGQJF9Z",
        "outputId": "e2d6787e-0488-471b-ecaf-e2f77a89c231",
        "colab": {
          "base_uri": "https://localhost:8080/"
        }
      }
    },
    {
      "cell_type": "markdown",
      "source": [
        "## Matrix x Matrix operations\n",
        "All operators also work when both arguments are arrays, in this case operations are done pair-wise on matching elements.\n",
        "The 2 arrays must have the same shape!"
      ],
      "metadata": {
        "collapsed": false,
        "pycharm": {
          "name": "#%% md\n"
        },
        "id": "gHph_M79JF9b"
      }
    },
    {
      "cell_type": "code",
      "execution_count": 4,
      "outputs": [
        {
          "output_type": "execute_result",
          "data": {
            "text/plain": [
              "(array([[ 1,  4,  9],\n",
              "        [16, 25, 36],\n",
              "        [49, 64, 81]]),\n",
              " array([[3, 3, 3],\n",
              "        [3, 3, 3],\n",
              "        [3, 3, 3]], dtype=uint8),\n",
              " array([[0, 2, 0],\n",
              "        [0, 0, 0],\n",
              "        [7, 8, 9]]))"
            ]
          },
          "metadata": {},
          "execution_count": 4
        }
      ],
      "source": [
        "squares = matrix * matrix\n",
        "threes = ones + twos\n",
        "filtered = rand * matrix\n",
        "squares, threes, filtered"
      ],
      "metadata": {
        "pycharm": {
          "name": "#%%\n"
        },
        "id": "rC68yQyMJF9c",
        "outputId": "8b44d530-36d6-44d6-8a68-988efbed1dd2",
        "colab": {
          "base_uri": "https://localhost:8080/"
        }
      }
    },
    {
      "cell_type": "markdown",
      "source": [
        "## Logical operators\n",
        "numpy does not re-define python's built-in logical operators `and`, `or`, `not`\n",
        "But it does define the \"bitwise\" operators, bitwise and `&`, bitwise or `|` and bitwise not '~'.\n",
        "With care, these can be used to implement whole-matrix logical operations...\n",
        "**Tips**: both operands should by `bool` or `0`/`1` valued arrays (or you better really understand bitwise operators!).\n",
        "     Watch your precedence -- bitwise operators are very low precedence!"
      ],
      "metadata": {
        "collapsed": false,
        "pycharm": {
          "name": "#%% md\n"
        },
        "id": "YjdJnbf9JF9d"
      }
    },
    {
      "cell_type": "code",
      "execution_count": 5,
      "outputs": [
        {
          "output_type": "stream",
          "name": "stdout",
          "text": [
            "Error: The truth value of an array with more than one element is ambiguous. Use a.any() or a.all()\n"
          ]
        },
        {
          "output_type": "execute_result",
          "data": {
            "text/plain": [
              "(array([[False, False, False],\n",
              "        [False, False, False],\n",
              "        [ True, False,  True]]),\n",
              " array([[False, False, False],\n",
              "        [False, False, False],\n",
              "        [ True,  True,  True]]),\n",
              " array([[ True, False,  True],\n",
              "        [ True,  True,  True],\n",
              "        [False, False, False]]))"
            ]
          },
          "metadata": {},
          "execution_count": 5
        }
      ],
      "source": [
        "try:\n",
        "    alive and matrix\n",
        "except ValueError as e:\n",
        "    print('Error:', e)\n",
        "\n",
        "fitlered2 = alive & matrix!=0\n",
        "big_and_alive = (matrix > 5) & alive\n",
        "not_alive = ~alive\n",
        "fitlered2, big_and_alive, not_alive"
      ],
      "metadata": {
        "pycharm": {
          "name": "#%%\n"
        },
        "id": "0MkUuwdwJF9e",
        "outputId": "7707b273-6e0c-446e-cf85-fe43fa944c3c",
        "colab": {
          "base_uri": "https://localhost:8080/"
        }
      }
    },
    {
      "cell_type": "markdown",
      "source": [
        "## Matrix indexing\n",
        "Perhaps one of the most powerful numpy array operations is the ability to use the values of one array as indexes to lookup values in another array.\n",
        "For this operation the arrays can be different sizes and shapes, but you need to be clear about which array is the lookup table and which is the indexes!"
      ],
      "metadata": {
        "collapsed": false,
        "pycharm": {
          "name": "#%% md\n"
        },
        "id": "INuLJ2Y1JF9g"
      }
    },
    {
      "cell_type": "code",
      "execution_count": 6,
      "outputs": [
        {
          "output_type": "execute_result",
          "data": {
            "text/plain": [
              "(array([[ 3,  5,  9,  9,  9],\n",
              "        [10,  8, 10,  5,  1],\n",
              "        [ 7,  2,  6, 11,  9],\n",
              "        [ 6,  9,  2, 11, 11],\n",
              "        [ 4,  6, 10,  6,  3]]),\n",
              " array([['Mar', 'May', 'Sep', 'Sep', 'Sep'],\n",
              "        ['Oct', 'Aug', 'Oct', 'May', 'Jan'],\n",
              "        ['Jul', 'Feb', 'Jun', 'Nov', 'Sep'],\n",
              "        ['Jun', 'Sep', 'Feb', 'Nov', 'Nov'],\n",
              "        ['Apr', 'Jun', 'Oct', 'Jun', 'Mar']], dtype='<U3'))"
            ]
          },
          "metadata": {},
          "execution_count": 6
        }
      ],
      "source": [
        "month_names = np.array(['Jan', 'Feb', 'Mar', 'Apr', 'May', 'Jun', 'Jul', 'Aug', 'Sep', 'Oct', 'Nov', 'Dec'])\n",
        "month_nums = np.random.randint(low=1, high=12, size=(5, 5))\n",
        "month_nums, month_names[month_nums-1]"
      ],
      "metadata": {
        "pycharm": {
          "name": "#%%\n"
        },
        "id": "Xa3iFGUoJF9g",
        "outputId": "04678e9a-fa2a-4a36-af79-25f512da6a8f",
        "colab": {
          "base_uri": "https://localhost:8080/"
        }
      }
    },
    {
      "cell_type": "markdown",
      "source": [
        "### Filter with Boolean indexes\n",
        "By using an array of booleans, you can filter out a set of elements from another array with the same shape."
      ],
      "metadata": {
        "collapsed": false,
        "pycharm": {
          "name": "#%% md\n"
        },
        "id": "Nq67nNWHJF9h"
      }
    },
    {
      "cell_type": "code",
      "execution_count": 7,
      "outputs": [
        {
          "output_type": "execute_result",
          "data": {
            "text/plain": [
              "(array([[ 1,  4,  9],\n",
              "        [16, 25, 36],\n",
              "        [49, 64, 81]]),\n",
              " array([ 4, 16, 36, 64]))"
            ]
          },
          "metadata": {},
          "execution_count": 7
        }
      ],
      "source": [
        "even_squares = squares[squares%2==0]\n",
        "squares, even_squares"
      ],
      "metadata": {
        "pycharm": {
          "name": "#%%\n"
        },
        "id": "zR87c-bhJF9i",
        "outputId": "0de96ace-89de-4511-e3c0-75c9c2679bbd",
        "colab": {
          "base_uri": "https://localhost:8080/"
        }
      }
    },
    {
      "cell_type": "markdown",
      "source": [
        "Notice you get back a simple 1D array of elements.  These can act as references back to elements in the original array.\n",
        "This allows us to use a scalar assignment to update elements of the original 2D array that meet some criteria ..."
      ],
      "metadata": {
        "collapsed": false,
        "pycharm": {
          "name": "#%% md\n"
        },
        "id": "lohfhVo7JF9i"
      }
    },
    {
      "cell_type": "code",
      "execution_count": 8,
      "outputs": [
        {
          "output_type": "execute_result",
          "data": {
            "text/plain": [
              "(array([[False,  True, False],\n",
              "        [False, False, False],\n",
              "        [ True,  True,  True]]),\n",
              " array([[0, 2, 0],\n",
              "        [0, 0, 0],\n",
              "        [7, 8, 9]]))"
            ]
          },
          "metadata": {},
          "execution_count": 8
        }
      ],
      "source": [
        "matrix_dead = matrix.copy()\n",
        "matrix_dead[~alive] = 0\n",
        "alive, matrix_dead"
      ],
      "metadata": {
        "pycharm": {
          "name": "#%%\n"
        },
        "id": "3GkjoqUOJF9j",
        "outputId": "97455237-7942-4538-d3ce-b374cce2a366",
        "colab": {
          "base_uri": "https://localhost:8080/"
        }
      }
    },
    {
      "cell_type": "code",
      "execution_count": 8,
      "outputs": [],
      "source": [],
      "metadata": {
        "pycharm": {
          "name": "#%%\n"
        },
        "id": "MGs2XQ5qJF9k"
      }
    }
  ],
  "metadata": {
    "kernelspec": {
      "display_name": "Python 3",
      "language": "python",
      "name": "python3"
    },
    "language_info": {
      "codemirror_mode": {
        "name": "ipython",
        "version": 2
      },
      "file_extension": ".py",
      "mimetype": "text/x-python",
      "name": "python",
      "nbconvert_exporter": "python",
      "pygments_lexer": "ipython2",
      "version": "2.7.6"
    },
    "colab": {
      "provenance": []
    }
  },
  "nbformat": 4,
  "nbformat_minor": 0
}