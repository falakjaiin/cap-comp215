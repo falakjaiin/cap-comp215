{
  "nbformat": 4,
  "nbformat_minor": 0,
  "metadata": {
    "colab": {
      "provenance": [],
      "authorship_tag": "ABX9TyO4dP7q+UtrGS2z/xT9WYxz",
      "include_colab_link": true
    },
    "kernelspec": {
      "name": "python3",
      "display_name": "Python 3"
    },
    "language_info": {
      "name": "python"
    }
  },
  "cells": [
    {
      "cell_type": "markdown",
      "metadata": {
        "id": "view-in-github",
        "colab_type": "text"
      },
      "source": [
        "<a href=\"https://colab.research.google.com/github/falakjaiin/cap-comp215/blob/2024.01/PROJECT1_SIR_Model.ipynb\" target=\"_parent\"><img src=\"https://colab.research.google.com/assets/colab-badge.svg\" alt=\"Open In Colab\"/></a>"
      ]
    },
    {
      "cell_type": "markdown",
      "source": [
        "COMP 215 - PROJECT 1 (SIR - Epidemiological Model)\n",
        "----------------\n",
        "#### Name: Falak Jain\n",
        "#### Date: 26 February 2024\n",
        "\n",
        "***For these exercises, I took help of AI and some of my friends for a better concept clarity... I did not merely copy paste codes from anywhere, but yes I took help to understand the approach and syntaxes for my exercises... I really hope that this is acceptable :) ...***\n",
        "\n",
        "***Content is also added from the project 1 pdf uploaded on eLearn..***\n",
        "\n",
        "---\n",
        "\n",
        "###**OBJECTIVES:-**\n",
        "\n",
        "*   to develop a NetworkX Graph SIR model of disease epidemiology\n",
        "*   to experiment with intervention policies, like masking or social distancing to examine their effect\n",
        "\n",
        "\n",
        "\n",
        "###**WHAT IS SIR MODEL? :-**\n",
        "\n",
        "The SIR (Susceptible-Infected-Recovered) model is a simple, predictive “Compartment Model” for infectious\n",
        "diseases that are transmitted from human to human, and where recovery confers lasting resistance, such as\n",
        "measles, mumps and rubella. https://en.wikipedia.org/wiki/Compartmental_models_in_epidemiology#The_SIR_mode\n",
        "\n",
        "\n",
        "\n",
        "###**PROBLEM STATEMENT AND EXPERIMENTING WITH SIR MODEL:-**\n",
        "\n",
        "\n",
        "We use a WS Graph to model people (nodes) and social connections (edges). NetworkX has a built-in to create\n",
        "graphs that make good models for this case:\n",
        "\n",
        "G = nx.watts_strogatz_graph(n=NUM_INDIVIDUALS, k=AVERAGE_NUMBER_OF_CONNECTIONS, p=0.5)\n",
        "\n",
        "Each node can be in one of three states: Susceptible, Infectious, Recovered (SIR).\n",
        "The simulation starts with all nodes in the S state and a single node in the I state.\n",
        "Each simulation step, neighbouring S nodes may become Infectious, with some probability, p.\n",
        "Develop the SIR model with configurable initial state and parameters to control transmission and recovery\n",
        "rates. The model can be purely deterministic or stochastic. Keep it simple.\n",
        "\n",
        "Design an experiment to look at the potential effect of at least one policy, like mass vaccination, social\n",
        "distancing, or masking, on the spread of infection and number of infected cells.\n",
        "Display your results with at least one animation and one chart, and provide a short discussion about what this\n",
        "model tells us about the spread of communicable diseases, and what you would do next if you had more time..\n",
        "\n",
        "-------------------\n",
        "-------------------\n",
        "# Project work begins:--\n",
        "As usual, the first code cell simply imports all the modules we'll be using...\n"
      ],
      "metadata": {
        "id": "LYIZR2h5Q5gD"
      }
    },
    {
      "cell_type": "code",
      "execution_count": null,
      "metadata": {
        "id": "b2J7XljJQsSU"
      },
      "outputs": [],
      "source": [
        "import networkx as nx\n",
        "import random\n"
      ]
    }
  ]
}