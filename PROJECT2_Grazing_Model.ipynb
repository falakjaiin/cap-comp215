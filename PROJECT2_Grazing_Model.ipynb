{
  "nbformat": 4,
  "nbformat_minor": 0,
  "metadata": {
    "colab": {
      "provenance": [],
      "authorship_tag": "ABX9TyO1B5Kk7+SOyLAMhaonwxns",
      "include_colab_link": true
    },
    "kernelspec": {
      "name": "python3",
      "display_name": "Python 3"
    },
    "language_info": {
      "name": "python"
    }
  },
  "cells": [
    {
      "cell_type": "markdown",
      "metadata": {
        "id": "view-in-github",
        "colab_type": "text"
      },
      "source": [
        "<a href=\"https://colab.research.google.com/github/falakjaiin/cap-comp215/blob/2024.01/PROJECT2_Grazing_Model.ipynb\" target=\"_parent\"><img src=\"https://colab.research.google.com/assets/colab-badge.svg\" alt=\"Open In Colab\"/></a>"
      ]
    },
    {
      "cell_type": "markdown",
      "source": [
        "COMP 215 - PROJECT 2 (A SIMPLE GRAZING MODEL)\n",
        "----------------\n",
        "#### Name: Falak Jain , Ekakshar Modgil , Bhreegoo Kapoor\n",
        "#### Date: 9 April 2024\n",
        "\n",
        "***For these exercises, we took help of AI and some of our friends for a better concept clarity... We did not merely copy paste codes from anywhere, but yes took help to understand the approach and syntaxes for the exercises... We really hope that this is acceptable and hope that you will like the project :) ...***\n",
        "\n",
        "***Content is also added from the project 2 pdf uploaded on eLearn..***\n",
        "\n",
        "---\n",
        "\n",
        "###**OBJECTIVES:-**\n",
        "\n",
        "*   to develop a Cellular Automata model of grazing\n",
        "*   to experiment with intervention policies, like culls to examine their effect\n",
        "\n",
        "\n",
        "\n",
        "###**WHAT IS A SIMPLE GRAZING MODEL? :-**\n",
        "\n",
        "The Forest Fire model is an example of how ecosystem processes can be modelled with Cellular Automata.\n",
        "Another simple ecosystem process is grazing – the cycle of herbivores eating vegetation, which regenerates\n",
        "between https://en.wikipedia.org/wiki/Grazing_(behaviour)\n",
        "\n",
        "In this project, we have developed a 2D Cellular Automata model of a simple grazing system:\n",
        "\n",
        "*N deer are introduced onto a grassland and move via a random walk. The deer eat the grass which\n",
        "'regrows' after a short interval. Each deer has a weight index W which can increase to a maximum M\n",
        "when it is grazing and decreases when it is moving. If W reaches zero the deer dies.\n",
        "The goal is to see if a stable, self-regulating deer population can be found by varying*\n",
        "\n",
        "\n",
        "\n",
        "###**PROBLEM STATEMENT AND EXPERIMENTING WITH GRAZING MODEL:-**\n",
        "\n",
        "Develop a Grazing 2D CA class with configurable initial state and parameters to control grazing and movement\n",
        "rates. The model can be purely deterministic or stochastic. Keep it simple, focussing on how to represent\n",
        "the state of the system using just one integer in each cell, and the rules for grazing, movement, and\n",
        "regeneration using a correlation kernel.\n",
        "\n",
        "In the model, vegetation regenerates at some rate, herbivores move using a random walk algorithm, they\n",
        "consume vegetation whenever they find it, then move on...\n",
        "\n",
        "Design an experiment to look for critical values where the grazing system shows self-regulating, stable\n",
        "behaviour.\n",
        "\n",
        "\n",
        "\n",
        "-------------------\n",
        "-------------------\n",
        "# Project work begins:--\n",
        "As usual, the first code cell simply imports all the modules we'll be using...\n"
      ],
      "metadata": {
        "id": "mLK_db-9kM8a"
      }
    },
    {
      "cell_type": "code",
      "source": [
        "\n",
        "import numpy as np"
      ],
      "metadata": {
        "id": "k3nuqKnusnyt"
      },
      "execution_count": null,
      "outputs": []
    },
    {
      "cell_type": "markdown",
      "source": [
        "Introduce a class Grazing_Model and initialize all the required variables:\n",
        "\n",
        "*   List item\n",
        "*   List item\n",
        "*   List item\n",
        "*   List item\n",
        "\n"
      ],
      "metadata": {
        "id": "Olj6mPfiuZ2L"
      }
    },
    {
      "cell_type": "code",
      "source": [],
      "metadata": {
        "id": "gkwyaEp8uwOk"
      },
      "execution_count": null,
      "outputs": []
    },
    {
      "cell_type": "markdown",
      "source": [
        "-------------\n",
        "--------------\n",
        "# Algorithm analysis:--\n",
        "  An analysis of the algorithms used to generate t generations for a CA that is n x m cells in size."
      ],
      "metadata": {
        "id": "rUQtc0WLs34z"
      }
    },
    {
      "cell_type": "markdown",
      "source": [
        "1.  What is the Big-O time complexity of the algorithm we are using here to simulate this system?\n",
        "What implications does that have for running larger or longer CA experiments?\n",
        "\n"
      ],
      "metadata": {
        "id": "uuI7lOFYs-Bk"
      }
    },
    {
      "cell_type": "markdown",
      "source": [
        ">abc..."
      ],
      "metadata": {
        "id": "2kGu3QXgtSH7"
      }
    },
    {
      "cell_type": "markdown",
      "source": [
        "2. Use Python’s timeit to do some actual timings to support your algorithm analysis.\n"
      ],
      "metadata": {
        "id": "sbN2Tvgotapp"
      }
    },
    {
      "cell_type": "code",
      "source": [],
      "metadata": {
        "id": "Tu5erNk_tUDr"
      },
      "execution_count": null,
      "outputs": []
    },
    {
      "cell_type": "markdown",
      "source": [
        "3. Early in the Chapter 8 notebook, the author makes some efficiency improvements to the basic\n",
        "algorithm.\n",
        "\n",
        "*   Do these improvements change the Big-O time complexity?\n",
        "*   Do they reduce the multiplicative coefficient (linear improvement) or the constant (overhead).\n",
        "\n",
        "\n",
        "\n",
        "\n"
      ],
      "metadata": {
        "id": "gNo4H79-tlSk"
      }
    },
    {
      "cell_type": "markdown",
      "source": [
        ">abc..."
      ],
      "metadata": {
        "id": "XucrXlcat972"
      }
    },
    {
      "cell_type": "markdown",
      "source": [
        "-----------\n",
        "-----------\n",
        "# *THANK YOU....  :)*"
      ],
      "metadata": {
        "id": "9Dy5Xl3iuFYF"
      }
    }
  ]
}