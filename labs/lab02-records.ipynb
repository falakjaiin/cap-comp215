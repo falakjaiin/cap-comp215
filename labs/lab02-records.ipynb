{
  "nbformat": 4,
  "nbformat_minor": 0,
  "metadata": {
    "colab": {
      "name": "Lab2-NEO.ipynb",
      "provenance": []
    },
    "kernelspec": {
      "name": "python3",
      "language": "python",
      "display_name": "Python 3 (ipykernel)"
    },
    "language_info": {
      "name": "python"
    }
  },
  "cells": [
    {
      "cell_type": "markdown",
      "source": [
        "COMP 215 - LAB 2 Records (NEO)\n",
        "----------------\n",
        "#### Name: Falak Jain\n",
        "#### Date: 22 January 2024\n",
        "\n",
        "This lab exercise is mostly a review of strings, tuples, lists, dictionaries, and functions.\n",
        "\n",
        "**Building on new concepts from lab 1**:\n",
        "  * `datetime.date` objects represent a calendar date\n",
        "  * *list comprehension* provides a compact way to represent map and filter algorithms\n",
        "\n",
        "**New Python Concepts**:\n",
        "  * *f-string* simplifies string formatting operations\n",
        "\n",
        "As usual, the first code cell simply imports all the modules we'll be using..."
      ],
      "metadata": {
        "id": "nbRPZPKZU5Pk"
      }
    },
    {
      "cell_type": "code",
      "execution_count": 2,
      "outputs": [],
      "source": [
        "import datetime, json, requests\n",
        "from pprint import pprint    # Pretty Print - built-in python function to nicely format data structures"
      ],
      "metadata": {
        "pycharm": {
          "name": "#%%\n"
        },
        "ExecuteTime": {
          "end_time": "2024-01-04T04:05:38.688434Z",
          "start_time": "2024-01-04T04:05:38.640552Z"
        },
        "id": "H6wVeZnUSrfd"
      }
    },
    {
      "cell_type": "markdown",
      "source": [
        "We'll answer some questions about [Near Earth Objects](https://cneos.jpl.nasa.gov/)\n",
        "> using NASA's API:  [https://api.nasa.gov/](https://api.nasa.gov/#NeoWS)\n",
        "\n",
        "You should register for your own API key, (but may use the DEMO_KEY to get started).\n",
        "\n",
        "First we need a short tutorial on python dates and [f-strings](https://realpython.com/python-f-strings/)..."
      ],
      "metadata": {
        "collapsed": false,
        "pycharm": {
          "name": "#%% md\n"
        },
        "id": "xJXpDTjkSrfe"
      }
    },
    {
      "cell_type": "code",
      "execution_count": 3,
      "outputs": [
        {
          "output_type": "stream",
          "name": "stdout",
          "text": [
            "2024-01-19 <class 'datetime.date'>\n",
            "Today is: 2024-01-19\n"
          ]
        }
      ],
      "source": [
        "today = datetime.date.today()   # get a date object representing today's date\n",
        "print(today, type(today))\n",
        "formatted_date = f'Today is: {today}'   # A format string - notice how the variable `today` is formatted into the stringg\n",
        "print(formatted_date)"
      ],
      "metadata": {
        "pycharm": {
          "name": "#%%\n"
        },
        "ExecuteTime": {
          "end_time": "2024-01-04T04:05:38.691283Z",
          "start_time": "2024-01-04T04:05:38.688366Z"
        },
        "id": "mOJ7vTJfSrff",
        "outputId": "03110548-a5bd-4b84-c72d-395d6474ea2d",
        "colab": {
          "base_uri": "https://localhost:8080/"
        }
      }
    },
    {
      "cell_type": "markdown",
      "source": [
        "### Make a query\n",
        "\n",
        "Let's get some data from the NEO database...\n",
        "Here's a query that gets the observation \"feed\" for today.\n",
        "(Note: I hard-coded the date below to lock down the data for the lab - ideally used `today()` so the notebook is always up-to-date.)"
      ],
      "metadata": {
        "collapsed": false,
        "pycharm": {
          "name": "#%% md\n"
        },
        "id": "zd6mDppPSrfg"
      }
    },
    {
      "cell_type": "code",
      "execution_count": null,
      "outputs": [],
      "source": [
        "API_KEY = 'k3fhlue4SVW1pSMpBgKry7ZfFeEXogW4OuBXdw11'  # substitute your API key here\n",
        "\n",
        "today = str(datetime.date.today())  #  Future enhancement:  str(datetime.date.today())   # Today's date as a string!\n",
        "# Use an f-string here to \"format\" the date and API key varaibles.\n",
        "url = f'https://api.nasa.gov/neo/rest/v1/feed?start_date={today}&end_date={today}&api_key={API_KEY}'\n",
        "\n",
        "response = requests.request(\"GET\", url, headers={}, data={})\n",
        "\n",
        "data = json.loads(response.text)  # recall json.loads for lab 1\n",
        "\n",
        "# TIP: print(data) to see the whole data structure returned, here we grab just the list of NEO's:\n",
        "n_results = data['element_count']\n",
        "neos = data['near_earth_objects'][today]\n",
        "print(f'{n_results} Near Earth Objects found for {today}')\n",
        "pprint(neos[:5])"
      ],
      "metadata": {
        "pycharm": {
          "name": "#%%\n"
        },
        "ExecuteTime": {
          "end_time": "2024-01-04T04:05:43.064157Z",
          "start_time": "2024-01-04T04:05:38.691252Z"
        },
        "id": "VcR4qRH4Srfg"
      }
    },
    {
      "cell_type": "markdown",
      "source": [
        "Next we extract just the potentially hazerdous asteroids, using a Comp115-style list accumulator *loop*:"
      ],
      "metadata": {
        "collapsed": false,
        "pycharm": {
          "name": "#%% md\n"
        },
        "id": "t580zvs9Srfg"
      }
    },
    {
      "cell_type": "code",
      "execution_count": 12,
      "metadata": {
        "id": "JDGbYTySU3BP",
        "ExecuteTime": {
          "end_time": "2024-01-04T04:05:43.065108Z",
          "start_time": "2024-01-04T04:05:43.062239Z"
        },
        "outputId": "1ca1e6cf-00e6-4c21-c017-850755792a44",
        "colab": {
          "base_uri": "https://localhost:8080/"
        }
      },
      "outputs": [
        {
          "output_type": "stream",
          "name": "stdout",
          "text": [
            "2 potentially hazardous asteroids identified.\n"
          ]
        }
      ],
      "source": [
        "hazards =  []\n",
        "for item in neos:\n",
        "  if item['is_potentially_hazardous_asteroid'] is True:\n",
        "    hazards.append(item)\n",
        "print(f'{len(hazards)} potentially hazardous asteroids identified.')"
      ]
    },
    {
      "cell_type": "markdown",
      "source": [
        "## Exercise 1\n",
        "\n",
        "In the code cell below, **re-write the accumulator loop above** as a [list comprehension](https://realpython.com/lessons/list-comprehensions-overview/) that implements a [\"filter\"](https://youtu.be/hUes6y2b--0)\n",
        "Notice how this provides a concise way to \"filter\" items of interest from a larger data set."
      ],
      "metadata": {
        "collapsed": false,
        "pycharm": {
          "name": "#%% md\n"
        },
        "id": "EnJ_YPT4Srfh"
      }
    },
    {
      "cell_type": "code",
      "execution_count": 13,
      "outputs": [
        {
          "output_type": "stream",
          "name": "stdout",
          "text": [
            "2 potentially hazardous asteroids identified.\n"
          ]
        }
      ],
      "source": [
        "# # Ex. 1 your code here\n",
        "# hazards =  []\n",
        "# for item in neos:\n",
        "#   if item['is_potentially_hazardous_asteroid'] is True:\n",
        "#     hazards.append(item)\n",
        "# print(f'{len(hazards)} potentially hazardous asteroids identified.')\n",
        "\n",
        "hazards = [item for item in neos if item['is_potentially_hazardous_asteroid'] ]\n",
        "print(f'{len(hazards)} potentially hazardous asteroids identified.')\n"
      ],
      "metadata": {
        "pycharm": {
          "name": "#%%\n"
        },
        "ExecuteTime": {
          "end_time": "2024-01-04T04:05:43.069849Z",
          "start_time": "2024-01-04T04:05:43.065922Z"
        },
        "id": "BbhTqDV0Srfh",
        "outputId": "9011e9bc-740c-419d-87ae-90f41f3b7964",
        "colab": {
          "base_uri": "https://localhost:8080/"
        }
      }
    },
    {
      "cell_type": "markdown",
      "source": [
        "## Fetch Complete Data for One Asteroid\n",
        "\n",
        "Notice that the record for each `neo` is a dictionary with `id` field that uniquely identifies this record in the database.\n",
        "\n",
        "We can use this `id` to fetch complete orbital and close approach data for the NEO.\n",
        "\n",
        "For example, this query fetches the complete data set for the first hazardous asteroid...\n"
      ],
      "metadata": {
        "collapsed": false,
        "pycharm": {
          "name": "#%% md\n"
        },
        "id": "ehJqtGcnSrfi"
      }
    },
    {
      "cell_type": "code",
      "execution_count": null,
      "outputs": [],
      "source": [
        "id = hazards[0]['id']\n",
        "url = f'https://api.nasa.gov/neo/rest/v1/neo/{id}?api_key={API_KEY}'\n",
        "response = requests.request(\"GET\", url, headers={}, data={})\n",
        "data = json.loads(response.text)\n",
        "\n",
        "pprint(data)"
      ],
      "metadata": {
        "pycharm": {
          "name": "#%%\n"
        },
        "ExecuteTime": {
          "end_time": "2024-01-04T04:05:43.787125Z",
          "start_time": "2024-01-04T04:05:43.067936Z"
        },
        "id": "q-LTcqgySrfi"
      }
    },
    {
      "cell_type": "markdown",
      "source": [
        "Notice that the `miss_distance` field contains the distance (in various units) by which the NEO missed an \"orbiting body\".\n",
        "\n",
        "## Exercise 2\n",
        "\n",
        "In the code cell below, write a python function that takes a list of \"close approach data\" as a parameter,\n",
        "and returns a 2-tuple with the (date, miss km) of the closest approach to Earth in the list (where \"miss km\" is the miss distance in km).\n",
        "\n",
        "Hints:\n",
        "* notice the input is a list of dictionaries.  Each dictionary has a 'close_approach_date\", \"orbiting_body\", and 'miss_distance' field.\n",
        "* we are only interested in the closest approach to \"Earth\"\n",
        "* use a loop if that is easier to understand - we will look at more compact algorithms to solve this problem in class.\n",
        "\n",
        "Add at least one unit test to check your work - note the test data only needs dictionaries with the fields your function actually uses.\n"
      ],
      "metadata": {
        "id": "DNRs7ynOYwYk"
      }
    },
    {
      "cell_type": "code",
      "source": [
        "# Ex. 2 your code here\n",
        "\n",
        "import datetime, json, requests\n",
        "from pprint import pprint\n",
        "\n",
        "API_KEY = 'k3fhlue4SVW1pSMpBgKry7ZfFeEXogW4OuBXdw11'  # substitute your API key here\n",
        "\n",
        "today = str(datetime.date.today())  #  Future enhancement:  str(datetime.date.today())   # Today's date as a string!\n",
        "# Use an f-string here to \"format\" the date and API key varaibles.\n",
        "url = f'https://api.nasa.gov/neo/rest/v1/feed?start_date={today}&end_date={today}&api_key={API_KEY}'\n",
        "\n",
        "response = requests.request(\"GET\", url, headers={}, data={})\n",
        "\n",
        "data = json.loads(response.text)  # recall json.loads for lab 1\n",
        "\n",
        "# TIP: print(data) to see the whole data structure returned, here we grab just the list of NEO's:\n",
        "n_results = data['element_count']\n",
        "neos = data['near_earth_objects'][today]\n",
        "print(f'{n_results} Near Earth Objects found for {today}')\n",
        "pprint(neos[:5])"
      ],
      "metadata": {
        "id": "tiyXTDfnZAd0",
        "ExecuteTime": {
          "end_time": "2024-01-04T04:05:43.790535Z",
          "start_time": "2024-01-04T04:05:43.787064Z"
        },
        "outputId": "a46bdbd5-c54a-4909-9714-3269e8f0f1da",
        "colab": {
          "base_uri": "https://localhost:8080/"
        }
      },
      "execution_count": 26,
      "outputs": [
        {
          "output_type": "stream",
          "name": "stdout",
          "text": [
            "15 Near Earth Objects found for 2024-01-19\n",
            "[{'absolute_magnitude_h': 21.17,\n",
            "  'close_approach_data': [{'close_approach_date': '2024-01-19',\n",
            "                           'close_approach_date_full': '2024-Jan-19 15:12',\n",
            "                           'epoch_date_close_approach': 1705677120000,\n",
            "                           'miss_distance': {'astronomical': '0.4869182247',\n",
            "                                             'kilometers': '72841929.279301389',\n",
            "                                             'lunar': '189.4111894083',\n",
            "                                             'miles': '45261876.0330776082'},\n",
            "                           'orbiting_body': 'Earth',\n",
            "                           'relative_velocity': {'kilometers_per_hour': '86451.8162166821',\n",
            "                                                 'kilometers_per_second': '24.0143933935',\n",
            "                                                 'miles_per_hour': '53717.7965819712'}}],\n",
            "  'estimated_diameter': {'feet': {'estimated_diameter_max': 1137.6928534001,\n",
            "                                  'estimated_diameter_min': 508.7917115437},\n",
            "                         'kilometers': {'estimated_diameter_max': 0.3467687706,\n",
            "                                        'estimated_diameter_min': 0.1550797087},\n",
            "                         'meters': {'estimated_diameter_max': 346.7687706198,\n",
            "                                    'estimated_diameter_min': 155.079708716},\n",
            "                         'miles': {'estimated_diameter_max': 0.2154720578,\n",
            "                                   'estimated_diameter_min': 0.0963620337}},\n",
            "  'id': '2264357',\n",
            "  'is_potentially_hazardous_asteroid': True,\n",
            "  'is_sentry_object': False,\n",
            "  'links': {'self': 'http://api.nasa.gov/neo/rest/v1/neo/2264357?api_key=k3fhlue4SVW1pSMpBgKry7ZfFeEXogW4OuBXdw11'},\n",
            "  'name': '264357 (2000 AZ93)',\n",
            "  'nasa_jpl_url': 'https://ssd.jpl.nasa.gov/tools/sbdb_lookup.html#/?sstr=2264357',\n",
            "  'neo_reference_id': '2264357'},\n",
            " {'absolute_magnitude_h': 19.0,\n",
            "  'close_approach_data': [{'close_approach_date': '2024-01-19',\n",
            "                           'close_approach_date_full': '2024-Jan-19 01:46',\n",
            "                           'epoch_date_close_approach': 1705628760000,\n",
            "                           'miss_distance': {'astronomical': '0.2366054103',\n",
            "                                             'kilometers': '35395665.411356061',\n",
            "                                             'lunar': '92.0395046067',\n",
            "                                             'miles': '21993846.6183972018'},\n",
            "                           'orbiting_body': 'Earth',\n",
            "                           'relative_velocity': {'kilometers_per_hour': '43800.2706702575',\n",
            "                                                 'kilometers_per_second': '12.1667418528',\n",
            "                                                 'miles_per_hour': '27215.7848506386'}}],\n",
            "  'estimated_diameter': {'feet': {'estimated_diameter_max': 3090.4735428537,\n",
            "                                  'estimated_diameter_min': 1382.1017848971},\n",
            "                         'kilometers': {'estimated_diameter_max': 0.9419763057,\n",
            "                                        'estimated_diameter_min': 0.4212646106},\n",
            "                         'meters': {'estimated_diameter_max': 941.9763057186,\n",
            "                                    'estimated_diameter_min': 421.2646105562},\n",
            "                         'miles': {'estimated_diameter_max': 0.5853167591,\n",
            "                                   'estimated_diameter_min': 0.2617616123}},\n",
            "  'id': '2308041',\n",
            "  'is_potentially_hazardous_asteroid': False,\n",
            "  'is_sentry_object': False,\n",
            "  'links': {'self': 'http://api.nasa.gov/neo/rest/v1/neo/2308041?api_key=k3fhlue4SVW1pSMpBgKry7ZfFeEXogW4OuBXdw11'},\n",
            "  'name': '308041 (2004 TN)',\n",
            "  'nasa_jpl_url': 'https://ssd.jpl.nasa.gov/tools/sbdb_lookup.html#/?sstr=2308041',\n",
            "  'neo_reference_id': '2308041'},\n",
            " {'absolute_magnitude_h': 18.0,\n",
            "  'close_approach_data': [{'close_approach_date': '2024-01-19',\n",
            "                           'close_approach_date_full': '2024-Jan-19 10:24',\n",
            "                           'epoch_date_close_approach': 1705659840000,\n",
            "                           'miss_distance': {'astronomical': '0.3651593642',\n",
            "                                             'kilometers': '54627063.094874254',\n",
            "                                             'lunar': '142.0469926738',\n",
            "                                             'miles': '33943683.0176585452'},\n",
            "                           'orbiting_body': 'Earth',\n",
            "                           'relative_velocity': {'kilometers_per_hour': '38664.3045974018',\n",
            "                                                 'kilometers_per_second': '10.7400846104',\n",
            "                                                 'miles_per_hour': '24024.49526498'}}],\n",
            "  'estimated_diameter': {'feet': {'estimated_diameter_max': 4898.07047955,\n",
            "                                  'estimated_diameter_min': 2190.4837101717},\n",
            "                         'kilometers': {'estimated_diameter_max': 1.4929318344,\n",
            "                                        'estimated_diameter_min': 0.6676594135},\n",
            "                         'meters': {'estimated_diameter_max': 1492.931834393,\n",
            "                                    'estimated_diameter_min': 667.6594134952},\n",
            "                         'miles': {'estimated_diameter_max': 0.9276645469,\n",
            "                                   'estimated_diameter_min': 0.4148641974}},\n",
            "  'id': '3440320',\n",
            "  'is_potentially_hazardous_asteroid': False,\n",
            "  'is_sentry_object': False,\n",
            "  'links': {'self': 'http://api.nasa.gov/neo/rest/v1/neo/3440320?api_key=k3fhlue4SVW1pSMpBgKry7ZfFeEXogW4OuBXdw11'},\n",
            "  'name': '(2008 WL60)',\n",
            "  'nasa_jpl_url': 'https://ssd.jpl.nasa.gov/tools/sbdb_lookup.html#/?sstr=3440320',\n",
            "  'neo_reference_id': '3440320'},\n",
            " {'absolute_magnitude_h': 20.89,\n",
            "  'close_approach_data': [{'close_approach_date': '2024-01-19',\n",
            "                           'close_approach_date_full': '2024-Jan-19 21:31',\n",
            "                           'epoch_date_close_approach': 1705699860000,\n",
            "                           'miss_distance': {'astronomical': '0.4491657024',\n",
            "                                             'kilometers': '67194232.356093888',\n",
            "                                             'lunar': '174.7254582336',\n",
            "                                             'miles': '41752559.8941481344'},\n",
            "                           'orbiting_body': 'Earth',\n",
            "                           'relative_velocity': {'kilometers_per_hour': '29855.8254126233',\n",
            "                                                 'kilometers_per_second': '8.2932848368',\n",
            "                                                 'miles_per_hour': '18551.248851527'}}],\n",
            "  'estimated_diameter': {'feet': {'estimated_diameter_max': 1294.2704329143,\n",
            "                                  'estimated_diameter_min': 578.8153338529},\n",
            "                         'kilometers': {'estimated_diameter_max': 0.3944936153,\n",
            "                                        'estimated_diameter_min': 0.1764229081},\n",
            "                         'meters': {'estimated_diameter_max': 394.4936153285,\n",
            "                                    'estimated_diameter_min': 176.4229081128},\n",
            "                         'miles': {'estimated_diameter_max': 0.2451268923,\n",
            "                                   'estimated_diameter_min': 0.1096240788}},\n",
            "  'id': '3484044',\n",
            "  'is_potentially_hazardous_asteroid': False,\n",
            "  'is_sentry_object': False,\n",
            "  'links': {'self': 'http://api.nasa.gov/neo/rest/v1/neo/3484044?api_key=k3fhlue4SVW1pSMpBgKry7ZfFeEXogW4OuBXdw11'},\n",
            "  'name': '(2009 YV6)',\n",
            "  'nasa_jpl_url': 'https://ssd.jpl.nasa.gov/tools/sbdb_lookup.html#/?sstr=3484044',\n",
            "  'neo_reference_id': '3484044'},\n",
            " {'absolute_magnitude_h': 22.06,\n",
            "  'close_approach_data': [{'close_approach_date': '2024-01-19',\n",
            "                           'close_approach_date_full': '2024-Jan-19 08:42',\n",
            "                           'epoch_date_close_approach': 1705653720000,\n",
            "                           'miss_distance': {'astronomical': '0.3667241762',\n",
            "                                             'kilometers': '54861155.637024694',\n",
            "                                             'lunar': '142.6557045418',\n",
            "                                             'miles': '34089141.3783570172'},\n",
            "                           'orbiting_body': 'Earth',\n",
            "                           'relative_velocity': {'kilometers_per_hour': '71774.5776742411',\n",
            "                                                 'kilometers_per_second': '19.9373826873',\n",
            "                                                 'miles_per_hour': '44597.9313331972'}}],\n",
            "  'estimated_diameter': {'feet': {'estimated_diameter_max': 755.1357476901,\n",
            "                                  'estimated_diameter_min': 337.706972815},\n",
            "                         'kilometers': {'estimated_diameter_max': 0.2301653685,\n",
            "                                        'estimated_diameter_min': 0.102933082},\n",
            "                         'meters': {'estimated_diameter_max': 230.1653685307,\n",
            "                                    'estimated_diameter_min': 102.9330820202},\n",
            "                         'miles': {'estimated_diameter_max': 0.1430180852,\n",
            "                                   'estimated_diameter_min': 0.0639596321}},\n",
            "  'id': '3554011',\n",
            "  'is_potentially_hazardous_asteroid': False,\n",
            "  'is_sentry_object': False,\n",
            "  'links': {'self': 'http://api.nasa.gov/neo/rest/v1/neo/3554011?api_key=k3fhlue4SVW1pSMpBgKry7ZfFeEXogW4OuBXdw11'},\n",
            "  'name': '(2010 XX72)',\n",
            "  'nasa_jpl_url': 'https://ssd.jpl.nasa.gov/tools/sbdb_lookup.html#/?sstr=3554011',\n",
            "  'neo_reference_id': '3554011'}]\n"
          ]
        }
      ]
    },
    {
      "cell_type": "markdown",
      "source": [
        "## Challenge - Take your skills to the next level...\n",
        "## Exercise 3\n",
        "\n",
        "In the code cell below, write a complete program that:\n",
        " 1. fetches the list of NEO's for this week.\n",
        " 2. for each NEO, fetch it's complete orbital data and determine its closest approach to Earth\n",
        " 3. identify which NEO from this week's data makes the closet approach to earth\n",
        " 4. print a nice message with information about the NEO, which it will approach the Earth, and how close it will come.\n",
        "\n",
        "Hints:\n",
        "* you'll need the start and end date - end date is today, see if you can use a [`timedelta`](https://docs.python.org/3/library/datetime.html#timedelta-objects) object to ge the start date (you can do basic \"date math\" with `timedelta` and `date` objects!)\n",
        "* you may need to modify the function we wrote in Ex. 2 to return a triple with the NEO's id included;\n",
        "* lots of opportunity here for more practice with list comprehensions\n"
      ],
      "metadata": {
        "collapsed": false,
        "id": "h2BWIjP0Srfj"
      }
    },
    {
      "cell_type": "code",
      "source": [
        "# Ex. 3 (challenge) your code here"
      ],
      "metadata": {
        "id": "Ds1YevErlzCe",
        "pycharm": {
          "name": "#%%\n"
        },
        "ExecuteTime": {
          "end_time": "2024-01-04T04:05:43.790766Z",
          "start_time": "2024-01-04T04:05:43.789211Z"
        }
      },
      "execution_count": 9,
      "outputs": []
    }
  ]
}