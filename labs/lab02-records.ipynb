{
  "nbformat": 4,
  "nbformat_minor": 0,
  "metadata": {
    "colab": {
      "name": "Lab2-NEO.ipynb",
      "provenance": []
    },
    "kernelspec": {
      "name": "python3",
      "language": "python",
      "display_name": "Python 3 (ipykernel)"
    },
    "language_info": {
      "name": "python"
    }
  },
  "cells": [
    {
      "cell_type": "markdown",
      "source": [
        "COMP 215 - LAB 2 Records (NEO)\n",
        "----------------\n",
        "#### Name: Falak Jain\n",
        "#### Date: 22 January 2024\n",
        "\n",
        "This lab exercise is mostly a review of strings, tuples, lists, dictionaries, and functions.\n",
        "\n",
        "**Building on new concepts from lab 1**:\n",
        "  * `datetime.date` objects represent a calendar date\n",
        "  * *list comprehension* provides a compact way to represent map and filter algorithms\n",
        "\n",
        "**New Python Concepts**:\n",
        "  * *f-string* simplifies string formatting operations\n",
        "\n",
        "As usual, the first code cell simply imports all the modules we'll be using..."
      ],
      "metadata": {
        "id": "nbRPZPKZU5Pk"
      }
    },
    {
      "cell_type": "code",
      "execution_count": 2,
      "outputs": [],
      "source": [
        "import datetime, json, requests\n",
        "from pprint import pprint    # Pretty Print - built-in python function to nicely format data structures"
      ],
      "metadata": {
        "pycharm": {
          "name": "#%%\n"
        },
        "ExecuteTime": {
          "end_time": "2024-01-04T04:05:38.688434Z",
          "start_time": "2024-01-04T04:05:38.640552Z"
        },
        "id": "H6wVeZnUSrfd"
      }
    },
    {
      "cell_type": "markdown",
      "source": [
        "We'll answer some questions about [Near Earth Objects](https://cneos.jpl.nasa.gov/)\n",
        "> using NASA's API:  [https://api.nasa.gov/](https://api.nasa.gov/#NeoWS)\n",
        "\n",
        "You should register for your own API key, (but may use the DEMO_KEY to get started).\n",
        "\n",
        "First we need a short tutorial on python dates and [f-strings](https://realpython.com/python-f-strings/)..."
      ],
      "metadata": {
        "collapsed": false,
        "pycharm": {
          "name": "#%% md\n"
        },
        "id": "xJXpDTjkSrfe"
      }
    },
    {
      "cell_type": "code",
      "execution_count": 3,
      "outputs": [
        {
          "output_type": "stream",
          "name": "stdout",
          "text": [
            "2024-01-21 <class 'datetime.date'>\n",
            "Today is: 2024-01-21\n"
          ]
        }
      ],
      "source": [
        "today = datetime.date.today()   # get a date object representing today's date\n",
        "print(today, type(today))\n",
        "formatted_date = f'Today is: {today}'   # A format string - notice how the variable `today` is formatted into the stringg\n",
        "print(formatted_date)"
      ],
      "metadata": {
        "pycharm": {
          "name": "#%%\n"
        },
        "ExecuteTime": {
          "end_time": "2024-01-04T04:05:38.691283Z",
          "start_time": "2024-01-04T04:05:38.688366Z"
        },
        "id": "mOJ7vTJfSrff",
        "outputId": "49bf8738-b2af-4057-c02e-cda2537c116c",
        "colab": {
          "base_uri": "https://localhost:8080/"
        }
      }
    },
    {
      "cell_type": "markdown",
      "source": [
        "### Make a query\n",
        "\n",
        "Let's get some data from the NEO database...\n",
        "Here's a query that gets the observation \"feed\" for today.\n",
        "(Note: I hard-coded the date below to lock down the data for the lab - ideally used `today()` so the notebook is always up-to-date.)"
      ],
      "metadata": {
        "collapsed": false,
        "pycharm": {
          "name": "#%% md\n"
        },
        "id": "zd6mDppPSrfg"
      }
    },
    {
      "cell_type": "code",
      "execution_count": null,
      "outputs": [],
      "source": [
        "API_KEY = '1BlH27r67PFVu8MP7jAtDOaKswDtU6xAV1LzdiCr'  # substitute your API key here\n",
        "\n",
        "today = str(datetime.date.today())  #  Future enhancement:  str(datetime.date.today())   # Today's date as a string!\n",
        "# Use an f-string here to \"format\" the date and API key varaibles.\n",
        "url = f'https://api.nasa.gov/neo/rest/v1/feed?start_date={today}&end_date={today}&api_key={API_KEY}'\n",
        "\n",
        "response = requests.request(\"GET\", url, headers={}, data={})\n",
        "\n",
        "data = json.loads(response.text)  # recall json.loads for lab 1\n",
        "\n",
        "# TIP: print(data) to see the whole data structure returned, here we grab just the list of NEO's:\n",
        "n_results = data['element_count']\n",
        "neos = data['near_earth_objects'][today]\n",
        "print(f'{n_results} Near Earth Objects found for {today}')\n",
        "pprint(neos[:5])"
      ],
      "metadata": {
        "pycharm": {
          "name": "#%%\n"
        },
        "ExecuteTime": {
          "end_time": "2024-01-04T04:05:43.064157Z",
          "start_time": "2024-01-04T04:05:38.691252Z"
        },
        "id": "VcR4qRH4Srfg"
      }
    },
    {
      "cell_type": "markdown",
      "source": [
        "Next we extract just the potentially hazerdous asteroids, using a Comp115-style list accumulator *loop*:"
      ],
      "metadata": {
        "collapsed": false,
        "pycharm": {
          "name": "#%% md\n"
        },
        "id": "t580zvs9Srfg"
      }
    },
    {
      "cell_type": "code",
      "execution_count": 5,
      "metadata": {
        "id": "JDGbYTySU3BP",
        "ExecuteTime": {
          "end_time": "2024-01-04T04:05:43.065108Z",
          "start_time": "2024-01-04T04:05:43.062239Z"
        },
        "outputId": "2ce4156b-96db-44ed-e5d1-bfb2b50f19a8",
        "colab": {
          "base_uri": "https://localhost:8080/"
        }
      },
      "outputs": [
        {
          "output_type": "stream",
          "name": "stdout",
          "text": [
            "1 potentially hazardous asteroids identified.\n"
          ]
        }
      ],
      "source": [
        "hazards =  []\n",
        "for item in neos:\n",
        "  if item['is_potentially_hazardous_asteroid'] is True:\n",
        "    hazards.append(item)\n",
        "print(f'{len(hazards)} potentially hazardous asteroids identified.')"
      ]
    },
    {
      "cell_type": "markdown",
      "source": [
        "## Exercise 1\n",
        "\n",
        "In the code cell below, **re-write the accumulator loop above** as a [list comprehension](https://realpython.com/lessons/list-comprehensions-overview/) that implements a [\"filter\"](https://youtu.be/hUes6y2b--0)\n",
        "Notice how this provides a concise way to \"filter\" items of interest from a larger data set."
      ],
      "metadata": {
        "collapsed": false,
        "pycharm": {
          "name": "#%% md\n"
        },
        "id": "EnJ_YPT4Srfh"
      }
    },
    {
      "cell_type": "code",
      "execution_count": 6,
      "outputs": [
        {
          "output_type": "stream",
          "name": "stdout",
          "text": [
            "1 potentially hazardous asteroids identified.\n"
          ]
        }
      ],
      "source": [
        "# # Ex. 1 your code here\n",
        "# hazards =  []\n",
        "# for item in neos:\n",
        "#   if item['is_potentially_hazardous_asteroid'] is True:\n",
        "#     hazards.append(item)\n",
        "# print(f'{len(hazards)} potentially hazardous asteroids identified.')\n",
        "\n",
        "hazards = [item for item in neos if item['is_potentially_hazardous_asteroid'] ]\n",
        "print(f'{len(hazards)} potentially hazardous asteroids identified.')\n"
      ],
      "metadata": {
        "pycharm": {
          "name": "#%%\n"
        },
        "ExecuteTime": {
          "end_time": "2024-01-04T04:05:43.069849Z",
          "start_time": "2024-01-04T04:05:43.065922Z"
        },
        "id": "BbhTqDV0Srfh",
        "outputId": "f6b0d9e7-1dcd-403a-fd14-609f2a95aff3",
        "colab": {
          "base_uri": "https://localhost:8080/"
        }
      }
    },
    {
      "cell_type": "markdown",
      "source": [
        "## Fetch Complete Data for One Asteroid\n",
        "\n",
        "Notice that the record for each `neo` is a dictionary with `id` field that uniquely identifies this record in the database.\n",
        "\n",
        "We can use this `id` to fetch complete orbital and close approach data for the NEO.\n",
        "\n",
        "For example, this query fetches the complete data set for the first hazardous asteroid...\n"
      ],
      "metadata": {
        "collapsed": false,
        "pycharm": {
          "name": "#%% md\n"
        },
        "id": "ehJqtGcnSrfi"
      }
    },
    {
      "cell_type": "code",
      "execution_count": null,
      "outputs": [],
      "source": [
        "id = hazards[0]['id']\n",
        "url = f'https://api.nasa.gov/neo/rest/v1/neo/{id}?api_key={API_KEY}'\n",
        "response = requests.request(\"GET\", url, headers={}, data={})\n",
        "data = json.loads(response.text)\n",
        "\n",
        "pprint(data)"
      ],
      "metadata": {
        "pycharm": {
          "name": "#%%\n"
        },
        "ExecuteTime": {
          "end_time": "2024-01-04T04:05:43.787125Z",
          "start_time": "2024-01-04T04:05:43.067936Z"
        },
        "id": "q-LTcqgySrfi"
      }
    },
    {
      "cell_type": "markdown",
      "source": [
        "Notice that the `miss_distance` field contains the distance (in various units) by which the NEO missed an \"orbiting body\".\n",
        "\n",
        "## Exercise 2\n",
        "\n",
        "In the code cell below, write a python function that takes a list of \"close approach data\" as a parameter,\n",
        "and returns a 2-tuple with the (date, miss km) of the closest approach to Earth in the list (where \"miss km\" is the miss distance in km).\n",
        "\n",
        "Hints:\n",
        "* notice the input is a list of dictionaries.  Each dictionary has a 'close_approach_date\", \"orbiting_body\", and 'miss_distance' field.\n",
        "* we are only interested in the closest approach to \"Earth\"\n",
        "* use a loop if that is easier to understand - we will look at more compact algorithms to solve this problem in class.\n",
        "\n",
        "Add at least one unit test to check your work - note the test data only needs dictionaries with the fields your function actually uses.\n"
      ],
      "metadata": {
        "id": "DNRs7ynOYwYk"
      }
    },
    {
      "cell_type": "code",
      "source": [
        "# Ex. 2 your code here\n",
        "\n",
        "import datetime, json, requests\n",
        "from pprint import pprint\n",
        "\n",
        "API_KEY = '1BlH27r67PFVu8MP7jAtDOaKswDtU6xAV1LzdiCr'\n",
        "\n",
        "today = str(datetime.date.today())\n",
        "url = f'https://api.nasa.gov/neo/rest/v1/feed?start_date={today}&end_date={today}&api_key={API_KEY}'\n",
        "response = requests.request(\"GET\", url, headers={}, data={})\n",
        "data = json.loads(response.text)\n",
        "\n",
        "n_results = data['element_count']\n",
        "neos = data['near_earth_objects'][today]\n",
        "#print(f'{n_results} Near Earth Objects found for {today}')\n",
        "pprint(neos[:])\n",
        "\n",
        "\n",
        "def foo(dataSet):\n",
        "  required_date = None\n",
        "  required_dist = float('inf')\n",
        "  for info in dataSet:\n",
        "    if info['orbiting_body'] == 'Earth' and info['miss_distance']['kilometers'] < required_dist:\n",
        "      required_date = info['close_approach_date_full']\n",
        "      required_dist = info['miss_distance']['kilometers']\n",
        "  print(f'date of the closest approach to Earth in the list is {required_date} and the minimum distance is {required_dist}')\n",
        "\n",
        "test_data = [{'close_approach_date_full':'2024-01-20' , 'orbiting_body':'Earth' , 'miss_distance':{'kilometers':190 , 'lunar':150}} ,\n",
        "             {'close_approach_date_full':'2024-01-19' , 'orbiting_body':'Venus' , 'miss_distance':{'kilometers':190 , 'lunar':50}} ,\n",
        "             {'close_approach_date_full':'2024-01-18' , 'orbiting_body':'Earth' , 'miss_distance':{'kilometers':250 , 'lunar':100}}\n",
        "            ]\n",
        "\n",
        "approachData = neos[0]['close_approach_data']\n",
        "foo(test_data)"
      ],
      "metadata": {
        "id": "tiyXTDfnZAd0",
        "ExecuteTime": {
          "end_time": "2024-01-04T04:05:43.790535Z",
          "start_time": "2024-01-04T04:05:43.787064Z"
        },
        "outputId": "73880de8-8e8b-443f-85bb-77477211bafc",
        "colab": {
          "base_uri": "https://localhost:8080/"
        }
      },
      "execution_count": 28,
      "outputs": [
        {
          "output_type": "stream",
          "name": "stdout",
          "text": [
            "[{'absolute_magnitude_h': 16.17,\n",
            "  'close_approach_data': [{'close_approach_date': '2024-01-21',\n",
            "                           'close_approach_date_full': '2024-Jan-21 02:40',\n",
            "                           'epoch_date_close_approach': 1705804800000,\n",
            "                           'miss_distance': {'astronomical': '0.4072431913',\n",
            "                                             'kilometers': '60922713.990482531',\n",
            "                                             'lunar': '158.4176014157',\n",
            "                                             'miles': '37855619.0853036878'},\n",
            "                           'orbiting_body': 'Earth',\n",
            "                           'relative_velocity': {'kilometers_per_hour': '59626.7090901598',\n",
            "                                                 'kilometers_per_second': '16.5629747473',\n",
            "                                                 'miles_per_hour': '37049.7182121607'}}],\n",
            "  'estimated_diameter': {'feet': {'estimated_diameter_max': 11376.9285340012,\n",
            "                                  'estimated_diameter_min': 5087.9171154367},\n",
            "                         'kilometers': {'estimated_diameter_max': 3.4676877062,\n",
            "                                        'estimated_diameter_min': 1.5507970872},\n",
            "                         'meters': {'estimated_diameter_max': 3467.6877061976,\n",
            "                                    'estimated_diameter_min': 1550.7970871596},\n",
            "                         'miles': {'estimated_diameter_max': 2.1547205777,\n",
            "                                   'estimated_diameter_min': 0.9636203368}},\n",
            "  'id': '2068350',\n",
            "  'is_potentially_hazardous_asteroid': False,\n",
            "  'is_sentry_object': False,\n",
            "  'links': {'self': 'http://api.nasa.gov/neo/rest/v1/neo/2068350?api_key=1BlH27r67PFVu8MP7jAtDOaKswDtU6xAV1LzdiCr'},\n",
            "  'name': '68350 (2001 MK3)',\n",
            "  'nasa_jpl_url': 'https://ssd.jpl.nasa.gov/tools/sbdb_lookup.html#/?sstr=2068350',\n",
            "  'neo_reference_id': '2068350'},\n",
            " {'absolute_magnitude_h': 18.79,\n",
            "  'close_approach_data': [{'close_approach_date': '2024-01-21',\n",
            "                           'close_approach_date_full': '2024-Jan-21 09:30',\n",
            "                           'epoch_date_close_approach': 1705829400000,\n",
            "                           'miss_distance': {'astronomical': '0.4291563133',\n",
            "                                             'kilometers': '64200870.366732671',\n",
            "                                             'lunar': '166.9418058737',\n",
            "                                             'miles': '39892571.0027900198'},\n",
            "                           'orbiting_body': 'Earth',\n",
            "                           'relative_velocity': {'kilometers_per_hour': '78941.4207801721',\n",
            "                                                 'kilometers_per_second': '21.9281724389',\n",
            "                                                 'miles_per_hour': '49051.1289286575'}}],\n",
            "  'estimated_diameter': {'feet': {'estimated_diameter_max': 3404.278092551,\n",
            "                                  'estimated_diameter_min': 1522.4394458515},\n",
            "                         'kilometers': {'estimated_diameter_max': 1.0376239294,\n",
            "                                        'estimated_diameter_min': 0.4640395282},\n",
            "                         'meters': {'estimated_diameter_max': 1037.6239294056,\n",
            "                                    'estimated_diameter_min': 464.0395282463},\n",
            "                         'miles': {'estimated_diameter_max': 0.6447494186,\n",
            "                                   'estimated_diameter_min': 0.2883407057}},\n",
            "  'id': '3295786',\n",
            "  'is_potentially_hazardous_asteroid': False,\n",
            "  'is_sentry_object': False,\n",
            "  'links': {'self': 'http://api.nasa.gov/neo/rest/v1/neo/3295786?api_key=1BlH27r67PFVu8MP7jAtDOaKswDtU6xAV1LzdiCr'},\n",
            "  'name': '(2005 UL)',\n",
            "  'nasa_jpl_url': 'https://ssd.jpl.nasa.gov/tools/sbdb_lookup.html#/?sstr=3295786',\n",
            "  'neo_reference_id': '3295786'},\n",
            " {'absolute_magnitude_h': 21.36,\n",
            "  'close_approach_data': [{'close_approach_date': '2024-01-21',\n",
            "                           'close_approach_date_full': '2024-Jan-21 22:12',\n",
            "                           'epoch_date_close_approach': 1705875120000,\n",
            "                           'miss_distance': {'astronomical': '0.2119910938',\n",
            "                                             'kilometers': '31713416.091450206',\n",
            "                                             'lunar': '82.4645354882',\n",
            "                                             'miles': '19705802.9890006028'},\n",
            "                           'orbiting_body': 'Earth',\n",
            "                           'relative_velocity': {'kilometers_per_hour': '50048.3682146502',\n",
            "                                                 'kilometers_per_second': '13.9023245041',\n",
            "                                                 'miles_per_hour': '31098.1096831531'}}],\n",
            "  'estimated_diameter': {'feet': {'estimated_diameter_max': 1042.3775037506,\n",
            "                                  'estimated_diameter_min': 466.1653913206},\n",
            "                         'kilometers': {'estimated_diameter_max': 0.317716653,\n",
            "                                        'estimated_diameter_min': 0.1420872067},\n",
            "                         'meters': {'estimated_diameter_max': 317.7166529762,\n",
            "                                    'estimated_diameter_min': 142.0872067277},\n",
            "                         'miles': {'estimated_diameter_max': 0.1974199144,\n",
            "                                   'estimated_diameter_min': 0.0882888697}},\n",
            "  'id': '3432638',\n",
            "  'is_potentially_hazardous_asteroid': False,\n",
            "  'is_sentry_object': False,\n",
            "  'links': {'self': 'http://api.nasa.gov/neo/rest/v1/neo/3432638?api_key=1BlH27r67PFVu8MP7jAtDOaKswDtU6xAV1LzdiCr'},\n",
            "  'name': '(2008 UQ)',\n",
            "  'nasa_jpl_url': 'https://ssd.jpl.nasa.gov/tools/sbdb_lookup.html#/?sstr=3432638',\n",
            "  'neo_reference_id': '3432638'},\n",
            " {'absolute_magnitude_h': 20.4,\n",
            "  'close_approach_data': [{'close_approach_date': '2024-01-21',\n",
            "                           'close_approach_date_full': '2024-Jan-21 07:39',\n",
            "                           'epoch_date_close_approach': 1705822740000,\n",
            "                           'miss_distance': {'astronomical': '0.3853887',\n",
            "                                             'kilometers': '57653328.642069',\n",
            "                                             'lunar': '149.9162043',\n",
            "                                             'miles': '35824117.2317922'},\n",
            "                           'orbiting_body': 'Earth',\n",
            "                           'relative_velocity': {'kilometers_per_hour': '81009.1448382071',\n",
            "                                                 'kilometers_per_second': '22.5025402328',\n",
            "                                                 'miles_per_hour': '50335.9322468293'}}],\n",
            "  'estimated_diameter': {'feet': {'estimated_diameter_max': 1621.9035709942,\n",
            "                                  'estimated_diameter_min': 725.3373275385},\n",
            "                         'kilometers': {'estimated_diameter_max': 0.4943561926,\n",
            "                                        'estimated_diameter_min': 0.2210828104},\n",
            "                         'meters': {'estimated_diameter_max': 494.3561926196,\n",
            "                                    'estimated_diameter_min': 221.0828103591},\n",
            "                         'miles': {'estimated_diameter_max': 0.3071786018,\n",
            "                                   'estimated_diameter_min': 0.137374447}},\n",
            "  'id': '3574783',\n",
            "  'is_potentially_hazardous_asteroid': True,\n",
            "  'is_sentry_object': False,\n",
            "  'links': {'self': 'http://api.nasa.gov/neo/rest/v1/neo/3574783?api_key=1BlH27r67PFVu8MP7jAtDOaKswDtU6xAV1LzdiCr'},\n",
            "  'name': '(2011 PS)',\n",
            "  'nasa_jpl_url': 'https://ssd.jpl.nasa.gov/tools/sbdb_lookup.html#/?sstr=3574783',\n",
            "  'neo_reference_id': '3574783'},\n",
            " {'absolute_magnitude_h': 24.2,\n",
            "  'close_approach_data': [{'close_approach_date': '2024-01-21',\n",
            "                           'close_approach_date_full': '2024-Jan-21 17:02',\n",
            "                           'epoch_date_close_approach': 1705856520000,\n",
            "                           'miss_distance': {'astronomical': '0.1142071782',\n",
            "                                             'kilometers': '17085150.597430434',\n",
            "                                             'lunar': '44.4265923198',\n",
            "                                             'miles': '10616220.3005666292'},\n",
            "                           'orbiting_body': 'Earth',\n",
            "                           'relative_velocity': {'kilometers_per_hour': '21769.7907329721',\n",
            "                                                 'kilometers_per_second': '6.0471640925',\n",
            "                                                 'miles_per_hour': '13526.9013584959'}}],\n",
            "  'estimated_diameter': {'feet': {'estimated_diameter_max': 281.8545369825,\n",
            "                                  'estimated_diameter_min': 126.0491808919},\n",
            "                         'kilometers': {'estimated_diameter_max': 0.0859092601,\n",
            "                                        'estimated_diameter_min': 0.0384197891},\n",
            "                         'meters': {'estimated_diameter_max': 85.9092601232,\n",
            "                                    'estimated_diameter_min': 38.4197891064},\n",
            "                         'miles': {'estimated_diameter_max': 0.0533815229,\n",
            "                                   'estimated_diameter_min': 0.0238729428}},\n",
            "  'id': '3771019',\n",
            "  'is_potentially_hazardous_asteroid': False,\n",
            "  'is_sentry_object': False,\n",
            "  'links': {'self': 'http://api.nasa.gov/neo/rest/v1/neo/3771019?api_key=1BlH27r67PFVu8MP7jAtDOaKswDtU6xAV1LzdiCr'},\n",
            "  'name': '(2017 ED3)',\n",
            "  'nasa_jpl_url': 'https://ssd.jpl.nasa.gov/tools/sbdb_lookup.html#/?sstr=3771019',\n",
            "  'neo_reference_id': '3771019'},\n",
            " {'absolute_magnitude_h': 18.88,\n",
            "  'close_approach_data': [{'close_approach_date': '2024-01-21',\n",
            "                           'close_approach_date_full': '2024-Jan-21 10:46',\n",
            "                           'epoch_date_close_approach': 1705833960000,\n",
            "                           'miss_distance': {'astronomical': '0.2011282275',\n",
            "                                             'kilometers': '30088354.430875425',\n",
            "                                             'lunar': '78.2388804975',\n",
            "                                             'miles': '18696036.496613865'},\n",
            "                           'orbiting_body': 'Earth',\n",
            "                           'relative_velocity': {'kilometers_per_hour': '74104.0003581264',\n",
            "                                                 'kilometers_per_second': '20.5844445439',\n",
            "                                                 'miles_per_hour': '46045.3440003036'}}],\n",
            "  'estimated_diameter': {'feet': {'estimated_diameter_max': 3266.0665518493,\n",
            "                                  'estimated_diameter_min': 1460.6293657947},\n",
            "                         'kilometers': {'estimated_diameter_max': 0.9954970531,\n",
            "                                        'estimated_diameter_min': 0.4451998164},\n",
            "                         'meters': {'estimated_diameter_max': 995.4970531478,\n",
            "                                    'estimated_diameter_min': 445.1998164478},\n",
            "                         'miles': {'estimated_diameter_max': 0.6185729994,\n",
            "                                   'estimated_diameter_min': 0.2766342551}},\n",
            "  'id': '3789676',\n",
            "  'is_potentially_hazardous_asteroid': False,\n",
            "  'is_sentry_object': False,\n",
            "  'links': {'self': 'http://api.nasa.gov/neo/rest/v1/neo/3789676?api_key=1BlH27r67PFVu8MP7jAtDOaKswDtU6xAV1LzdiCr'},\n",
            "  'name': '(2017 WA15)',\n",
            "  'nasa_jpl_url': 'https://ssd.jpl.nasa.gov/tools/sbdb_lookup.html#/?sstr=3789676',\n",
            "  'neo_reference_id': '3789676'},\n",
            " {'absolute_magnitude_h': 25.3,\n",
            "  'close_approach_data': [{'close_approach_date': '2024-01-21',\n",
            "                           'close_approach_date_full': '2024-Jan-21 09:51',\n",
            "                           'epoch_date_close_approach': 1705830660000,\n",
            "                           'miss_distance': {'astronomical': '0.3846520537',\n",
            "                                             'kilometers': '57543127.924645619',\n",
            "                                             'lunar': '149.6296488893',\n",
            "                                             'miles': '35755641.6812387822'},\n",
            "                           'orbiting_body': 'Earth',\n",
            "                           'relative_velocity': {'kilometers_per_hour': '67629.525815358',\n",
            "                                                 'kilometers_per_second': '18.7859793932',\n",
            "                                                 'miles_per_hour': '42022.3573045484'}}],\n",
            "  'estimated_diameter': {'feet': {'estimated_diameter_max': 169.8341531374,\n",
            "                                  'estimated_diameter_min': 75.9521422633},\n",
            "                         'kilometers': {'estimated_diameter_max': 0.0517654482,\n",
            "                                        'estimated_diameter_min': 0.0231502122},\n",
            "                         'meters': {'estimated_diameter_max': 51.7654482198,\n",
            "                                    'estimated_diameter_min': 23.150212221},\n",
            "                         'miles': {'estimated_diameter_max': 0.0321655483,\n",
            "                                   'estimated_diameter_min': 0.0143848705}},\n",
            "  'id': '3837859',\n",
            "  'is_potentially_hazardous_asteroid': False,\n",
            "  'is_sentry_object': False,\n",
            "  'links': {'self': 'http://api.nasa.gov/neo/rest/v1/neo/3837859?api_key=1BlH27r67PFVu8MP7jAtDOaKswDtU6xAV1LzdiCr'},\n",
            "  'name': '(2019 AN11)',\n",
            "  'nasa_jpl_url': 'https://ssd.jpl.nasa.gov/tools/sbdb_lookup.html#/?sstr=3837859',\n",
            "  'neo_reference_id': '3837859'},\n",
            " {'absolute_magnitude_h': 22.26,\n",
            "  'close_approach_data': [{'close_approach_date': '2024-01-21',\n",
            "                           'close_approach_date_full': '2024-Jan-21 01:56',\n",
            "                           'epoch_date_close_approach': 1705802160000,\n",
            "                           'miss_distance': {'astronomical': '0.3618417364',\n",
            "                                             'kilometers': '54130753.042541468',\n",
            "                                             'lunar': '140.7564354596',\n",
            "                                             'miles': '33635290.2515015384'},\n",
            "                           'orbiting_body': 'Earth',\n",
            "                           'relative_velocity': {'kilometers_per_hour': '24828.1652912567',\n",
            "                                                 'kilometers_per_second': '6.8967125809',\n",
            "                                                 'miles_per_hour': '15427.2563722256'}}],\n",
            "  'estimated_diameter': {'feet': {'estimated_diameter_max': 688.6919870785,\n",
            "                                  'estimated_diameter_min': 307.9924197334},\n",
            "                         'kilometers': {'estimated_diameter_max': 0.2099133109,\n",
            "                                        'estimated_diameter_min': 0.0938760865},\n",
            "                         'meters': {'estimated_diameter_max': 209.9133109443,\n",
            "                                    'estimated_diameter_min': 93.8760865307},\n",
            "                         'miles': {'estimated_diameter_max': 0.1304340439,\n",
            "                                   'estimated_diameter_min': 0.0583318778}},\n",
            "  'id': '54375772',\n",
            "  'is_potentially_hazardous_asteroid': False,\n",
            "  'is_sentry_object': False,\n",
            "  'links': {'self': 'http://api.nasa.gov/neo/rest/v1/neo/54375772?api_key=1BlH27r67PFVu8MP7jAtDOaKswDtU6xAV1LzdiCr'},\n",
            "  'name': '(2023 OW1)',\n",
            "  'nasa_jpl_url': 'https://ssd.jpl.nasa.gov/tools/sbdb_lookup.html#/?sstr=54375772',\n",
            "  'neo_reference_id': '54375772'},\n",
            " {'absolute_magnitude_h': 21.93,\n",
            "  'close_approach_data': [{'close_approach_date': '2024-01-21',\n",
            "                           'close_approach_date_full': '2024-Jan-21 12:14',\n",
            "                           'epoch_date_close_approach': 1705839240000,\n",
            "                           'miss_distance': {'astronomical': '0.4663967896',\n",
            "                                             'kilometers': '69771966.298998152',\n",
            "                                             'lunar': '181.4283511544',\n",
            "                                             'miles': '43354289.4930804176'},\n",
            "                           'orbiting_body': 'Earth',\n",
            "                           'relative_velocity': {'kilometers_per_hour': '43803.1902789544',\n",
            "                                                 'kilometers_per_second': '12.1675528553',\n",
            "                                                 'miles_per_hour': '27217.5989819425'}}],\n",
            "  'estimated_diameter': {'feet': {'estimated_diameter_max': 801.7242684045,\n",
            "                                  'estimated_diameter_min': 358.5419926728},\n",
            "                         'kilometers': {'estimated_diameter_max': 0.2443655492,\n",
            "                                        'estimated_diameter_min': 0.1092835959},\n",
            "                         'meters': {'estimated_diameter_max': 244.36554919,\n",
            "                                    'estimated_diameter_min': 109.2835958696},\n",
            "                         'miles': {'estimated_diameter_max': 0.1518416657,\n",
            "                                   'estimated_diameter_min': 0.0679056572}},\n",
            "  'id': '54380886',\n",
            "  'is_potentially_hazardous_asteroid': False,\n",
            "  'is_sentry_object': False,\n",
            "  'links': {'self': 'http://api.nasa.gov/neo/rest/v1/neo/54380886?api_key=1BlH27r67PFVu8MP7jAtDOaKswDtU6xAV1LzdiCr'},\n",
            "  'name': '(2023 RB2)',\n",
            "  'nasa_jpl_url': 'https://ssd.jpl.nasa.gov/tools/sbdb_lookup.html#/?sstr=54380886',\n",
            "  'neo_reference_id': '54380886'},\n",
            " {'absolute_magnitude_h': 20.961,\n",
            "  'close_approach_data': [{'close_approach_date': '2024-01-21',\n",
            "                           'close_approach_date_full': '2024-Jan-21 06:01',\n",
            "                           'epoch_date_close_approach': 1705816860000,\n",
            "                           'miss_distance': {'astronomical': '0.2112210877',\n",
            "                                             'kilometers': '31598224.819003199',\n",
            "                                             'lunar': '82.1650031153',\n",
            "                                             'miles': '19634226.4513501862'},\n",
            "                           'orbiting_body': 'Earth',\n",
            "                           'relative_velocity': {'kilometers_per_hour': '51684.6668249034',\n",
            "                                                 'kilometers_per_second': '14.3568518958',\n",
            "                                                 'miles_per_hour': '32114.8420057296'}}],\n",
            "  'estimated_diameter': {'feet': {'estimated_diameter_max': 1252.6364069736,\n",
            "                                  'estimated_diameter_min': 560.1960314168},\n",
            "                         'kilometers': {'estimated_diameter_max': 0.3818035646,\n",
            "                                        'estimated_diameter_min': 0.1707477449},\n",
            "                         'meters': {'estimated_diameter_max': 381.8035646279,\n",
            "                                    'estimated_diameter_min': 170.7477449119},\n",
            "                         'miles': {'estimated_diameter_max': 0.2372416628,\n",
            "                                   'estimated_diameter_min': 0.106097697}},\n",
            "  'id': '54416590',\n",
            "  'is_potentially_hazardous_asteroid': False,\n",
            "  'is_sentry_object': False,\n",
            "  'links': {'self': 'http://api.nasa.gov/neo/rest/v1/neo/54416590?api_key=1BlH27r67PFVu8MP7jAtDOaKswDtU6xAV1LzdiCr'},\n",
            "  'name': '(2023 XX11)',\n",
            "  'nasa_jpl_url': 'https://ssd.jpl.nasa.gov/tools/sbdb_lookup.html#/?sstr=54416590',\n",
            "  'neo_reference_id': '54416590'},\n",
            " {'absolute_magnitude_h': 22.525,\n",
            "  'close_approach_data': [{'close_approach_date': '2024-01-21',\n",
            "                           'close_approach_date_full': '2024-Jan-21 08:03',\n",
            "                           'epoch_date_close_approach': 1705824180000,\n",
            "                           'miss_distance': {'astronomical': '0.0744088674',\n",
            "                                             'kilometers': '11131408.072152438',\n",
            "                                             'lunar': '28.9450494186',\n",
            "                                             'miles': '6916736.2427141244'},\n",
            "                           'orbiting_body': 'Earth',\n",
            "                           'relative_velocity': {'kilometers_per_hour': '40930.0168158868',\n",
            "                                                 'kilometers_per_second': '11.3694491155',\n",
            "                                                 'miles_per_hour': '25432.3207265159'}}],\n",
            "  'estimated_diameter': {'feet': {'estimated_diameter_max': 609.5720281286,\n",
            "                                  'estimated_diameter_min': 272.6088984156},\n",
            "                         'kilometers': {'estimated_diameter_max': 0.1857975482,\n",
            "                                        'estimated_diameter_min': 0.0830911896},\n",
            "                         'meters': {'estimated_diameter_max': 185.7975482281,\n",
            "                                    'estimated_diameter_min': 83.0911895782},\n",
            "                         'miles': {'estimated_diameter_max': 0.1154492083,\n",
            "                                   'estimated_diameter_min': 0.0516304556}},\n",
            "  'id': '54416852',\n",
            "  'is_potentially_hazardous_asteroid': False,\n",
            "  'is_sentry_object': False,\n",
            "  'links': {'self': 'http://api.nasa.gov/neo/rest/v1/neo/54416852?api_key=1BlH27r67PFVu8MP7jAtDOaKswDtU6xAV1LzdiCr'},\n",
            "  'name': '(2023 XQ13)',\n",
            "  'nasa_jpl_url': 'https://ssd.jpl.nasa.gov/tools/sbdb_lookup.html#/?sstr=54416852',\n",
            "  'neo_reference_id': '54416852'},\n",
            " {'absolute_magnitude_h': 23.769,\n",
            "  'close_approach_data': [{'close_approach_date': '2024-01-21',\n",
            "                           'close_approach_date_full': '2024-Jan-21 01:22',\n",
            "                           'epoch_date_close_approach': 1705800120000,\n",
            "                           'miss_distance': {'astronomical': '0.0721301272',\n",
            "                                             'kilometers': '10790513.391949064',\n",
            "                                             'lunar': '28.0586194808',\n",
            "                                             'miles': '6704914.1107585232'},\n",
            "                           'orbiting_body': 'Earth',\n",
            "                           'relative_velocity': {'kilometers_per_hour': '19272.3599630461',\n",
            "                                                 'kilometers_per_second': '5.3534333231',\n",
            "                                                 'miles_per_hour': '11975.0950003716'}}],\n",
            "  'estimated_diameter': {'feet': {'estimated_diameter_max': 343.73600883,\n",
            "                                  'estimated_diameter_min': 153.7234164117},\n",
            "                         'kilometers': {'estimated_diameter_max': 0.1047707321,\n",
            "                                        'estimated_diameter_min': 0.0468548958},\n",
            "                         'meters': {'estimated_diameter_max': 104.7707321387,\n",
            "                                    'estimated_diameter_min': 46.8548958229},\n",
            "                         'miles': {'estimated_diameter_max': 0.0651014946,\n",
            "                                   'estimated_diameter_min': 0.0291142735}},\n",
            "  'id': '54419608',\n",
            "  'is_potentially_hazardous_asteroid': False,\n",
            "  'is_sentry_object': False,\n",
            "  'links': {'self': 'http://api.nasa.gov/neo/rest/v1/neo/54419608?api_key=1BlH27r67PFVu8MP7jAtDOaKswDtU6xAV1LzdiCr'},\n",
            "  'name': '(2024 AH2)',\n",
            "  'nasa_jpl_url': 'https://ssd.jpl.nasa.gov/tools/sbdb_lookup.html#/?sstr=54419608',\n",
            "  'neo_reference_id': '54419608'}]\n",
            "date of the closest approach to Earth in the list is 2024-01-20 and the minimum distance is 190\n"
          ]
        }
      ]
    },
    {
      "cell_type": "markdown",
      "source": [
        "## Challenge - Take your skills to the next level...\n",
        "## Exercise 3\n",
        "\n",
        "In the code cell below, write a complete program that:\n",
        " 1. fetches the list of NEO's for this week.\n",
        " 2. for each NEO, fetch it's complete orbital data and determine its closest approach to Earth\n",
        " 3. identify which NEO from this week's data makes the closet approach to earth\n",
        " 4. print a nice message with information about the NEO, which it will approach the Earth, and how close it will come.\n",
        "\n",
        "Hints:\n",
        "* you'll need the start and end date - end date is today, see if you can use a [`timedelta`](https://docs.python.org/3/library/datetime.html#timedelta-objects) object to ge the start date (you can do basic \"date math\" with `timedelta` and `date` objects!)\n",
        "* you may need to modify the function we wrote in Ex. 2 to return a triple with the NEO's id included;\n",
        "* lots of opportunity here for more practice with list comprehensions\n"
      ],
      "metadata": {
        "collapsed": false,
        "id": "h2BWIjP0Srfj"
      }
    },
    {
      "cell_type": "code",
      "source": [
        "# Ex. 3 (challenge) your code here"
      ],
      "metadata": {
        "id": "Ds1YevErlzCe",
        "pycharm": {
          "name": "#%%\n"
        },
        "ExecuteTime": {
          "end_time": "2024-01-04T04:05:43.790766Z",
          "start_time": "2024-01-04T04:05:43.789211Z"
        }
      },
      "execution_count": null,
      "outputs": []
    }
  ]
}