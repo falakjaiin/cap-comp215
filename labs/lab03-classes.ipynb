{
  "nbformat": 4,
  "nbformat_minor": 0,
  "metadata": {
    "colab": {
      "name": "Lab2-NEO.ipynb",
      "provenance": []
    },
    "kernelspec": {
      "name": "python3",
      "language": "python",
      "display_name": "Python 3 (ipykernel)"
    },
    "language_info": {
      "name": "python"
    }
  },
  "cells": [
    {
      "cell_type": "markdown",
      "source": [
        "COMP 215 - LAB 3 Classes (NEO)\n",
        "----------------\n",
        "#### Name: Falak Jain\n",
        "#### Date: 29 January 2024\n",
        "\n",
        "This lab exercise introduces `class` as a means of organizing related data and functions.\n",
        "\n",
        "**Building on new concepts from lab 2**:\n",
        "  * a `record` is a related collection of data, with fields for each data value\n",
        "  * an `API` is an \"Application Programmers Interface\" defining how a programmer interacts with a system.\n",
        "  * *f-string* simplifies string formatting operations\n",
        "\n",
        "**New Python Concepts**:\n",
        "  * the `class` keyword allows you define a new data `type`, with a set of operations on that data.\n",
        "  * a `dataclass` simplifies class definition for classes that primarily encapsulate a data structure.\n",
        "\n",
        "As usual, the first code cell simply imports all the modules we'll be using..."
      ],
      "metadata": {
        "id": "nbRPZPKZU5Pk"
      }
    },
    {
      "cell_type": "code",
      "execution_count": null,
      "outputs": [],
      "source": [
        "import datetime, json, requests\n",
        "from pprint import pprint    # Pretty Print - built-in python function to nicely format data structures"
      ],
      "metadata": {
        "pycharm": {
          "name": "#%%\n"
        },
        "ExecuteTime": {
          "end_time": "2024-01-04T04:10:54.380220Z",
          "start_time": "2024-01-04T04:10:54.335677Z"
        },
        "id": "B--T6WdaUAsX"
      }
    },
    {
      "cell_type": "markdown",
      "source": [
        "We'll continue working with [Near Earth Object](https://cneos.jpl.nasa.gov/) data\n",
        "> using NASA's API:  [https://api.nasa.gov/](https://api.nasa.gov/#NeoWS)\n",
        "\n",
        "Here's a brief review from Lab 2 on how to use it..."
      ],
      "metadata": {
        "collapsed": false,
        "pycharm": {
          "name": "#%% md\n"
        },
        "id": "pdDKCVAHUAsa"
      }
    },
    {
      "cell_type": "markdown",
      "source": [
        "### Review: making a query\n",
        "\n",
        "Here's a query that gets the record for a single NEO that recently passed by."
      ],
      "metadata": {
        "collapsed": false,
        "pycharm": {
          "name": "#%% md\n"
        },
        "id": "5ugFTdCEUAsa"
      }
    },
    {
      "cell_type": "code",
      "execution_count": null,
      "outputs": [],
      "source": [
        "API_KEY = '1BlH27r67PFVu8MP7jAtDOaKswDtU6xAV1LzdiCr'  # substitute your API key here\n",
        "\n",
        "def get_neos(start_date):\n",
        "    \"\"\" Return a list of NEO for the week starting at start_date \"\"\"\n",
        "    url = f'https://api.nasa.gov/neo/rest/v1/feed?start_date={start_date}&api_key={API_KEY}'\n",
        "    # Fetch last week's NEO feed\n",
        "    response = requests.request(\"GET\", url, headers={}, data={})\n",
        "    data = json.loads(response.text)\n",
        "    print(f'{data[\"element_count\"]} Near Earth Objects found for week of {start_date}')\n",
        "    return [neo for dated_records in data['near_earth_objects'].values() for neo in dated_records ]\n",
        "\n",
        "def get_neo(id):\n",
        "    \"\"\" Return a NEO record for the given id \"\"\"\n",
        "    url = f'https://api.nasa.gov/neo/rest/v1/neo/{id}?api_key={API_KEY}'\n",
        "    response = requests.request(\"GET\", url, headers={}, data={})\n",
        "    return json.loads(response.text)\n",
        "\n",
        "week_start = '2023-01-15'\n",
        "neos = get_neos(week_start)\n",
        "assert len(neos) > 0, f'Oh oh!  No NEOs found for {week_start}'\n",
        "neo = get_neo(neos[-1]['id'])  # get the very latest NEO\n",
        "pprint(neo)"
      ],
      "metadata": {
        "pycharm": {
          "name": "#%%\n"
        },
        "ExecuteTime": {
          "end_time": "2024-01-04T04:11:12.889668Z",
          "start_time": "2024-01-04T04:10:54.383166Z"
        },
        "id": "2TgOmuFpUAsb"
      }
    },
    {
      "cell_type": "markdown",
      "source": [
        "## Exercise 1:  Define an Asteroid class\n",
        "\n",
        "Define a simple Asteroid class with some basic state variables for a single NEO.  Your Asteroid class should define at least 4 \"state variables:”\n",
        "\n",
        "    id\n",
        "    name\n",
        "    estimated_diameter (m)\n",
        "    is_potentially_hazardous (bool)\n",
        "\n",
        "Operations must include:\n",
        "* `__init__(self, ...)` method to initialize a new Asteroid object with specific data values\n",
        "* `__str__(self)`, and `__repr__(self)` methods that return nicely formatted string representations of the object.\n",
        "  \n",
        "OR...\n",
        "use a `@dataclass` and it will supply most of that boilerplate code for you!\n",
        "\n",
        "Write a little code to test your new class."
      ],
      "metadata": {
        "collapsed": false,
        "pycharm": {
          "name": "#%% md\n"
        },
        "id": "5i_GDOzhUAsc"
      }
    },
    {
      "cell_type": "code",
      "execution_count": null,
      "outputs": [
        {
          "output_type": "execute_result",
          "data": {
            "text/plain": [
              "__main__.Neo_asteroid"
            ]
          },
          "metadata": {},
          "execution_count": 10
        }
      ],
      "source": [
        "# Ex.1 your code here\n",
        "class Neo_asteroid:\n",
        "  def __init__(self , id:int , name:str , estimated_diameter:float , is_potentially_hazardous:bool):\n",
        "    self.id = id\n",
        "    self.name = name\n",
        "    self.estimated_diameter = estimated_diameter\n",
        "    self.is_potentially_hazardous = is_potentially_hazardous\n",
        "\n",
        "  def __str__(self):\n",
        "    return f\"Id : {self.id} , Name : {self.name} , Estimated Diameter : {self.estimated_diameter} , Hazardous : {self.is_potentially_hazardous}\"\n",
        "\n",
        "asteroid = Neo_asteroid(1 , 'ABC' , 5.0 , False)\n",
        "type(asteroid)"
      ],
      "metadata": {
        "pycharm": {
          "name": "#%%\n"
        },
        "ExecuteTime": {
          "end_time": "2024-01-04T04:11:12.891665Z",
          "start_time": "2024-01-04T04:11:12.889274Z"
        },
        "id": "cH-xbXQEUAsh",
        "outputId": "a07d6374-3a0b-4978-df4e-cd50314defde",
        "colab": {
          "base_uri": "https://localhost:8080/"
        }
      }
    },
    {
      "cell_type": "markdown",
      "source": [
        "## Exercise 2: Factory method: Asteriod.from_NEO\n",
        "\n",
        "We want to be able to construct Asteroid objects easily from the record returned from the NEO API.  \n",
        "\n",
        "Add an \"object factory\" method to your class...   \n",
        "\n",
        "    @classmethod\n",
        "    def from_NEO(cls, neo_id):\n",
        "        ...\n",
        "\n",
        "that takes the id for a single NEO, fetches the NEO record from API, constructs and returns an Asteroid object representing that NEO.\n",
        "This kind of method is called a “Factory” because it constructs an object from raw materials.\n",
        "\n",
        "Write a little code to test your new class."
      ],
      "metadata": {
        "collapsed": false,
        "pycharm": {
          "name": "#%% md\n"
        },
        "id": "oqa9HYrjUAsh"
      }
    },
    {
      "cell_type": "code",
      "execution_count": null,
      "outputs": [
        {
          "output_type": "stream",
          "name": "stdout",
          "text": [
            "Id : 54339874 , Name : (2023 BM1) , Estimated Diameter : 63.3928064522 , Hazardous : False\n"
          ]
        }
      ],
      "source": [
        "# Ex. 2 your code here\n",
        "\n",
        "class Neo_asteroid:\n",
        "  def __init__(self , id:int , name:str , estimated_diameter:float , is_potentially_hazardous:bool):\n",
        "    self.id = id\n",
        "    self.name = name\n",
        "    self.estimated_diameter = estimated_diameter\n",
        "    self.is_potentially_hazardous = is_potentially_hazardous\n",
        "\n",
        "  def __str__(self):\n",
        "    return f\"Id : {self.id} , Name : {self.name} , Estimated Diameter : {self.estimated_diameter} , Hazardous : {self.is_potentially_hazardous}\"\n",
        "\n",
        "  @classmethod\n",
        "  def from_NEO(cls , neo_id):\n",
        "    record = get_neo(neo_id)\n",
        "    id = record['id']\n",
        "    name = record['name']\n",
        "    estimated_diameter = record['estimated_diameter']['meters']['estimated_diameter_max']\n",
        "    is_potentially_hazardous = record['is_potentially_hazardous_asteroid']\n",
        "\n",
        "    return cls(id , name , estimated_diameter , is_potentially_hazardous)\n",
        "\n",
        "test_case = neos[-1]['id']    #latest neo (from review query)\n",
        "asteroid2 = Neo_asteroid.from_NEO(test_case)\n",
        "print(asteroid2)"
      ],
      "metadata": {
        "pycharm": {
          "name": "#%%\n"
        },
        "ExecuteTime": {
          "end_time": "2024-01-04T04:11:12.894705Z",
          "start_time": "2024-01-04T04:11:12.892046Z"
        },
        "id": "0B3dIZuVUAsi",
        "outputId": "6069dcfb-9ece-40e3-d71d-8a7da348270d",
        "colab": {
          "base_uri": "https://localhost:8080/"
        }
      }
    },
    {
      "cell_type": "markdown",
      "source": [
        "## Exercise 3: Define a CloseApproach class\n",
        "\n",
        "Each NEO record comes with a list of `close_approach_data`, where each record in this list represents a single “close approach” to another orbiting body.\n",
        "* Develop a class named `CloseApproach` to represent a single close approach record.\n",
        "* State variables are\n",
        "\n",
        "        neo (refrence to related NEO object)\n",
        "        orbiting body (str)\n",
        "        approach date (datetime object!)\n",
        "        miss distance (float - choose units, document it, and be consistent!)\n",
        "        relative velocity (ditto)\n",
        "  \n",
        "Define a \"Factory\" class method to construct a `CloseApproach` object from one close approach data record (a dictionary object).   \n",
        "This method takes a `neo` object as input for the NEO to which the close approach data belongs.\n",
        "Remember to parse the date/time string into a datetime object."
      ],
      "metadata": {
        "id": "DNRs7ynOYwYk"
      }
    },
    {
      "cell_type": "code",
      "source": [
        "# Ex. 3 your code here\n",
        "\n",
        "class CloseApproach:\n",
        "  def __init__(self , neo , orbiting_body , approach_datetime , miss_distance , relative_velocity):\n",
        "    self.neo = neo\n",
        "    self.orbiting_body = orbiting_body\n",
        "    self.approach_datetime = approach_datetime\n",
        "    self.miss_distance = miss_distance\n",
        "    self.relative_velocity = relative_velocity\n",
        "\n",
        "  def __str__(self):\n",
        "    return f\"NEO OBJECT : {self.neo} , Orbiting Body : {self.orbiting_body} , Approach Date : {self.approach_datetime} , Missed Distance : {self.miss_distance}km , Relative Velocity : {self.miss_distance}km/h\"\n",
        "\n",
        "  @classmethod\n",
        "  def from_close_approach_data_record(cls , neo , close_approach_data):\n",
        "    orbiting_body = close_approach_data['orbiting_body']\n",
        "    approach_datetime_asStr = str(close_approach_data['close_approach_date_full'])\n",
        "    miss_distance = float(close_approach_data['miss_distance']['kilometers'])\n",
        "    relative_velocity = float(close_approach_data['relative_velocity']['kilometers_per_hour'])\n",
        "    approach_datetime = datetime.datetime.strptime(approach_datetime_asStr , '%Y-%m-%d %H:%M')\n",
        "\n",
        "    return cls(neo , orbiting_body , approach_datetime , miss_distance , relative_velocity)\n",
        "\n",
        "test_case_neo = Neo_asteroid.from_NEO(test_case)    #latest neo (from review query)\n",
        "test_case_close_approach_data = {'orbiting_body':'Earth' ,\n",
        "                   'close_approach_date_full':'2104-07-20 13:54' ,\n",
        "                   'miss_distance':{'kilometers':'290' ,\n",
        "                                    'lunar':'150'} ,\n",
        "                   'relative_velocity': {'kilometers_per_hour': '63429.8406460211',\n",
        "                                         'kilometers_per_second': '17.6194001795',}\n",
        "                   }\n",
        "\n",
        "close_approachh = CloseApproach.from_close_approach_data_record(test_case_neo , test_case_close_approach_data)\n",
        "print(close_approachh)\n"
      ],
      "metadata": {
        "id": "tiyXTDfnZAd0",
        "ExecuteTime": {
          "end_time": "2024-01-04T04:11:12.898030Z",
          "start_time": "2024-01-04T04:11:12.895465Z"
        },
        "outputId": "cfa3838a-7f52-4be4-dc27-6411249fe501",
        "colab": {
          "base_uri": "https://localhost:8080/"
        }
      },
      "execution_count": 31,
      "outputs": [
        {
          "output_type": "stream",
          "name": "stdout",
          "text": [
            "NEO OBJECT : Id : 54339874 , Name : (2023 BM1) , Estimated Diameter : 63.3928064522 , Hazardous : False ,Orbiting Body : Earth, Approach Date : 2104-07-20 13:54:00 , Missed Distance : 290.0km ,Relative Velocity : 290.0km/h\n"
          ]
        }
      ]
    },
    {
      "cell_type": "markdown",
      "source": [
        "## Exercise 4: Add list of CloseApproach objects to the Asteroid\n",
        "\n",
        "Every `Asteroid` should have a list of “close approaches”.\n",
        "But there is a catch-22 here because we need the `Asteroid` to construct the `CloseApproach` objects.\n",
        "Add an instance variable to your Asteroid class with a default value of an empty list:\n",
        "\n",
        "    ...\n",
        "    close_approaches:list = []\n",
        "    ...\n",
        "      \n",
        "In `from_NEO` factory, use a list comprehension to build the list of `CloseApproach` objects for the Asteroid instance, and then set the instance's `close_approaches` variable before returning it.  \n",
        "Setting the value of an object's instance variables from outside the class is generally frowned upon - this is why we make the factory a method of the class itself!\n",
        "\n",
        "Now add a method to `Asteroid` to return the `nearest_miss` `CloseApproach` object for the asteroic:\n",
        "\n",
        "    def nearest_miss(self):\n",
        "        ...\n",
        "\n",
        "Extend your test code to demonstrate these new features."
      ],
      "metadata": {
        "collapsed": false,
        "id": "iB6E4Jp1UAsk"
      }
    },
    {
      "cell_type": "code",
      "execution_count": null,
      "outputs": [],
      "source": [
        "# Ex. 4 your code here\n",
        "\n",
        "# copied code from Ex. 2 here\n",
        "\n",
        "class Neo_asteroid:\n",
        "  def __init__(self , id:int , name:str , estimated_diameter:float , is_potentially_hazardous:bool):\n",
        "    self.id = id\n",
        "    self.name = name\n",
        "    self.estimated_diameter = estimated_diameter\n",
        "    self.is_potentially_hazardous = is_potentially_hazardous\n",
        "    close_approaches:list = []\n",
        "\n",
        "  def __str__(self):\n",
        "    return f\"Id : {self.id} , Name : {self.name} , Estimated Diameter : {self.estimated_diameter} , Hazardous : {self.is_potentially_hazardous}\"\n",
        "\n",
        "  @classmethod\n",
        "  def from_NEO(cls , neo_id):\n",
        "    record = get_neo(neo_id)\n",
        "    id = record['id']\n",
        "    name = record['name']\n",
        "    estimated_diameter = record['estimated_diameter']['meters']['estimated_diameter_max']\n",
        "    is_potentially_hazardous = record['is_potentially_hazardous_asteroid']\n",
        "\n",
        "    asteroid_instance = cls(id , name , estimated_diameter , is_potentially_hazardous)\n",
        "    asteroid_instance.close_approaches = [CloseApproach.from_close_approach_data_record(asteroid_instance , )]\n",
        "    return asteroid_instance\n",
        "\n",
        "test_case = neos[-1]['id']    #latest neo (from review query)\n",
        "asteroid2 = Neo_asteroid.from_NEO(test_case)\n",
        "print(asteroid2)"
      ],
      "metadata": {
        "ExecuteTime": {
          "end_time": "2024-01-04T04:11:12.899780Z",
          "start_time": "2024-01-04T04:11:12.897929Z"
        },
        "id": "DF-uHMk2UAsl"
      }
    },
    {
      "cell_type": "markdown",
      "source": [
        "## Challenge - Take your skills to the next level...\n",
        "### Exercise 5: add one additional analysis\n",
        "\n",
        " With these data structures in place, we can now start answering all kinds of interesting questions about a single Asteroid or a set of Asteroids.  \n",
        "Here’s a couple ideas to try:\n",
        "\n",
        "* add a method to the Asteroid class, `closest_earth_approach`, that returns the CloseApproach object that represents the closest approach the Asteroid makes to Earth.\n",
        "\n",
        "* write a **function** named `most_dangerous_approach`, that takes a date range and returns a single “potentially hazardous” Asteroid object that makes the closest approach to Earth in within that range.  Your algorithm will ultimately need to:\n",
        "    * grab the list of NEO’s for the given date range;\n",
        "    * use a list comprehension to build the list of Asteroid objects for the NEO’s returned\n",
        "    * use a list comprehension to filter  potentially hazardous Asteroids only;\n",
        "    * use a list comprehension to map each Asteroid to its  closest_earth_approach\n",
        "    * apply Python’s min function to identify the Asteroid with the closest_earth_approach\n",
        "\n",
        "You may want to decompose some of these steps into smaller functions.\n",
        "* add a method to the Asteroid class, estimated_mass, that computes an estimate of the Asteroid’s mass based on its diameter.  This is a model – state your assumptions.\n",
        "* add a method to the CloseApproach class, impact_force,  that estimates the force of impact if the Asteroid hit the orbiting object.  Again, this is a model, state your assumptions."
      ],
      "metadata": {
        "collapsed": false,
        "id": "SsYgc9a8UAsm"
      }
    },
    {
      "cell_type": "code",
      "source": [
        "# Ex. 5 (challenge) your code here"
      ],
      "metadata": {
        "id": "Ds1YevErlzCe",
        "pycharm": {
          "name": "#%%\n"
        },
        "ExecuteTime": {
          "end_time": "2024-01-04T04:11:12.902837Z",
          "start_time": "2024-01-04T04:11:12.900180Z"
        }
      },
      "execution_count": null,
      "outputs": []
    }
  ]
}